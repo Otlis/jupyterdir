{
 "cells": [
  {
   "cell_type": "code",
   "execution_count": 1,
   "metadata": {},
   "outputs": [],
   "source": [
    "import numpy as np\n",
    "\n",
    "import pandas as pd\n",
    "from pandas import Series,DataFrame"
   ]
  },
  {
   "cell_type": "code",
   "execution_count": 2,
   "metadata": {},
   "outputs": [],
   "source": [
    "dti=pd.date_range(start='2018-01-01',end='2018-12-31',freq='D')"
   ]
  },
  {
   "cell_type": "code",
   "execution_count": 6,
   "metadata": {},
   "outputs": [
    {
     "data": {
      "text/plain": [
       "2018-01-01    0.566589\n",
       "2018-01-02    0.497400\n",
       "2018-01-03    0.743423\n",
       "2018-01-04    0.302620\n",
       "2018-01-05    0.947954\n",
       "                ...   \n",
       "2018-12-27    0.039215\n",
       "2018-12-28    0.832271\n",
       "2018-12-29    0.926865\n",
       "2018-12-30    0.984233\n",
       "2018-12-31    0.121923\n",
       "Freq: D, Length: 365, dtype: float64"
      ]
     },
     "execution_count": 6,
     "metadata": {},
     "output_type": "execute_result"
    }
   ],
   "source": [
    "s=pd.Series(np.random.rand(len(dti)),index=dti)\n",
    "s"
   ]
  },
  {
   "cell_type": "code",
   "execution_count": 8,
   "metadata": {},
   "outputs": [
    {
     "data": {
      "text/plain": [
       "29.305931688774418"
      ]
     },
     "execution_count": 8,
     "metadata": {},
     "output_type": "execute_result"
    }
   ],
   "source": [
    "s[s.index.weekday==2].sum()"
   ]
  },
  {
   "cell_type": "code",
   "execution_count": 10,
   "metadata": {},
   "outputs": [
    {
     "data": {
      "text/plain": [
       "2018-01-31    0.575124\n",
       "2018-02-28    0.398377\n",
       "2018-03-31    0.477724\n",
       "2018-04-30    0.440943\n",
       "2018-05-31    0.502851\n",
       "2018-06-30    0.538016\n",
       "2018-07-31    0.419679\n",
       "2018-08-31    0.452815\n",
       "2018-09-30    0.495020\n",
       "2018-10-31    0.522679\n",
       "2018-11-30    0.503249\n",
       "2018-12-31    0.582264\n",
       "Freq: M, dtype: float64"
      ]
     },
     "execution_count": 10,
     "metadata": {},
     "output_type": "execute_result"
    }
   ],
   "source": [
    "s.resample('M').mean()"
   ]
  },
  {
   "cell_type": "code",
   "execution_count": 12,
   "metadata": {},
   "outputs": [],
   "source": [
    "# 当前的时间没1s 截取一个时间 10个\n",
    "s=pd.date_range('today',periods=100,freq='S')\n",
    "ts=pd.Series(np.random.randint(0,500,len(s)),index=s)"
   ]
  },
  {
   "cell_type": "code",
   "execution_count": 13,
   "metadata": {},
   "outputs": [
    {
     "data": {
      "text/plain": [
       "2020-10-14 15:39:00     2456\n",
       "2020-10-14 15:40:00    14972\n",
       "2020-10-14 15:41:00     7002\n",
       "Freq: T, dtype: int32"
      ]
     },
     "execution_count": 13,
     "metadata": {},
     "output_type": "execute_result"
    }
   ],
   "source": [
    "ts.resample('Min').sum()"
   ]
  },
  {
   "cell_type": "code",
   "execution_count": 18,
   "metadata": {},
   "outputs": [
    {
     "data": {
      "text/plain": [
       "<matplotlib.axes._subplots.AxesSubplot at 0x2ba500ee190>"
      ]
     },
     "execution_count": 18,
     "metadata": {},
     "output_type": "execute_result"
    },
    {
     "data": {
      "image/png": "[encoded data removed]",
      "text/plain": [
       "<Figure size 432x288 with 1 Axes>"
      ]
     },
     "metadata": {
      "needs_background": "light"
     },
     "output_type": "display_data"
    }
   ],
   "source": [
    "%matplotlib inline \n",
    "\n",
    "ts = pd.Series(np.random.randn(100), index=pd.date_range('today', periods=100)) \n",
    "\n",
    "ts = ts.cumsum() \n",
    "ts.plot()"
   ]
  }
 ],
 "metadata": {
  "kernelspec": {
   "display_name": "Python 3",
   "language": "python",
   "name": "python3"
  },
  "language_info": {
   "codemirror_mode": {
    "name": "ipython",
    "version": 3
   },
   "file_extension": ".py",
   "mimetype": "text/x-python",
   "name": "python",
   "nbconvert_exporter": "python",
   "pygments_lexer": "ipython3",
   "version": "3.8.3"
  }
 },
 "nbformat": 4,
 "nbformat_minor": 4
}
