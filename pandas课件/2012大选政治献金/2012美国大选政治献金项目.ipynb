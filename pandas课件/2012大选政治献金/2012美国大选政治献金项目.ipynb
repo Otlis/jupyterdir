{
 "cells": [
  {
   "cell_type": "markdown",
   "metadata": {},
   "source": [
    "###  1. 数据载入和总览"
   ]
  },
  {
   "cell_type": "code",
   "execution_count": 1,
   "metadata": {},
   "outputs": [],
   "source": [
    "import matplotlib.pyplot as plt\n",
    "%matplotlib inline\n",
    "\n",
    "import numpy as np\n",
    "\n",
    "import pandas as pd\n",
    "\n",
    "from pandas import Series,DataFrame"
   ]
  },
  {
   "cell_type": "markdown",
   "metadata": {},
   "source": [
    "#### 1.1 数据载入"
   ]
  },
  {
   "cell_type": "code",
   "execution_count": 2,
   "metadata": {},
   "outputs": [
    {
     "name": "stdout",
     "output_type": "stream",
     "text": [
      "Wall time: 1.77 s\n"
     ]
    }
   ],
   "source": [
    "%%time\n",
    "contb1 = pd.read_csv('./usa_elect/contb_01.csv')\n",
    "contb2 = pd.read_csv('./usa_elect/contb_02.csv')\n",
    "contb3 = pd.read_csv('usa_elect/contb_03.csv')"
   ]
  },
  {
   "cell_type": "markdown",
   "metadata": {},
   "source": [
    "#### 1.2 数据合并"
   ]
  },
  {
   "cell_type": "code",
   "execution_count": 3,
   "metadata": {},
   "outputs": [
    {
     "data": {
      "text/html": [
       "<div>\n",
       "<style scoped>\n",
       "    .dataframe tbody tr th:only-of-type {\n",
       "        vertical-align: middle;\n",
       "    }\n",
       "\n",
       "    .dataframe tbody tr th {\n",
       "        vertical-align: top;\n",
       "    }\n",
       "\n",
       "    .dataframe thead th {\n",
       "        text-align: right;\n",
       "    }\n",
       "</style>\n",
       "<table border=\"1\" class=\"dataframe\">\n",
       "  <thead>\n",
       "    <tr style=\"text-align: right;\">\n",
       "      <th></th>\n",
       "      <th>cand_nm</th>\n",
       "      <th>contbr_nm</th>\n",
       "      <th>contbr_st</th>\n",
       "      <th>contbr_employer</th>\n",
       "      <th>contbr_occupation</th>\n",
       "      <th>contb_receipt_amt</th>\n",
       "      <th>contb_receipt_dt</th>\n",
       "    </tr>\n",
       "  </thead>\n",
       "  <tbody>\n",
       "    <tr>\n",
       "      <th>0</th>\n",
       "      <td>Bachmann, Michelle</td>\n",
       "      <td>HARVEY, WILLIAM</td>\n",
       "      <td>AL</td>\n",
       "      <td>RETIRED</td>\n",
       "      <td>RETIRED</td>\n",
       "      <td>250.0</td>\n",
       "      <td>20-JUN-11</td>\n",
       "    </tr>\n",
       "    <tr>\n",
       "      <th>1</th>\n",
       "      <td>Bachmann, Michelle</td>\n",
       "      <td>HARVEY, WILLIAM</td>\n",
       "      <td>AL</td>\n",
       "      <td>RETIRED</td>\n",
       "      <td>RETIRED</td>\n",
       "      <td>50.0</td>\n",
       "      <td>23-JUN-11</td>\n",
       "    </tr>\n",
       "    <tr>\n",
       "      <th>2</th>\n",
       "      <td>Bachmann, Michelle</td>\n",
       "      <td>SMITH, LANIER</td>\n",
       "      <td>AL</td>\n",
       "      <td>INFORMATION REQUESTED</td>\n",
       "      <td>INFORMATION REQUESTED</td>\n",
       "      <td>250.0</td>\n",
       "      <td>05-JUL-11</td>\n",
       "    </tr>\n",
       "    <tr>\n",
       "      <th>3</th>\n",
       "      <td>Bachmann, Michelle</td>\n",
       "      <td>BLEVINS, DARONDA</td>\n",
       "      <td>AR</td>\n",
       "      <td>NONE</td>\n",
       "      <td>RETIRED</td>\n",
       "      <td>250.0</td>\n",
       "      <td>01-AUG-11</td>\n",
       "    </tr>\n",
       "    <tr>\n",
       "      <th>4</th>\n",
       "      <td>Bachmann, Michelle</td>\n",
       "      <td>WARDENBURG, HAROLD</td>\n",
       "      <td>AR</td>\n",
       "      <td>NONE</td>\n",
       "      <td>RETIRED</td>\n",
       "      <td>300.0</td>\n",
       "      <td>20-JUN-11</td>\n",
       "    </tr>\n",
       "  </tbody>\n",
       "</table>\n",
       "</div>"
      ],
      "text/plain": [
       "              cand_nm           contbr_nm contbr_st        contbr_employer  \\\n",
       "0  Bachmann, Michelle     HARVEY, WILLIAM        AL                RETIRED   \n",
       "1  Bachmann, Michelle     HARVEY, WILLIAM        AL                RETIRED   \n",
       "2  Bachmann, Michelle       SMITH, LANIER        AL  INFORMATION REQUESTED   \n",
       "3  Bachmann, Michelle    BLEVINS, DARONDA        AR                   NONE   \n",
       "4  Bachmann, Michelle  WARDENBURG, HAROLD        AR                   NONE   \n",
       "\n",
       "       contbr_occupation  contb_receipt_amt contb_receipt_dt  \n",
       "0                RETIRED              250.0        20-JUN-11  \n",
       "1                RETIRED               50.0        23-JUN-11  \n",
       "2  INFORMATION REQUESTED              250.0        05-JUL-11  \n",
       "3                RETIRED              250.0        01-AUG-11  \n",
       "4                RETIRED              300.0        20-JUN-11  "
      ]
     },
     "execution_count": 3,
     "metadata": {},
     "output_type": "execute_result"
    }
   ],
   "source": [
    "contb1.head()"
   ]
  },
  {
   "cell_type": "code",
   "execution_count": 4,
   "metadata": {},
   "outputs": [
    {
     "data": {
      "text/html": [
       "<div>\n",
       "<style scoped>\n",
       "    .dataframe tbody tr th:only-of-type {\n",
       "        vertical-align: middle;\n",
       "    }\n",
       "\n",
       "    .dataframe tbody tr th {\n",
       "        vertical-align: top;\n",
       "    }\n",
       "\n",
       "    .dataframe thead th {\n",
       "        text-align: right;\n",
       "    }\n",
       "</style>\n",
       "<table border=\"1\" class=\"dataframe\">\n",
       "  <thead>\n",
       "    <tr style=\"text-align: right;\">\n",
       "      <th></th>\n",
       "      <th>cand_nm</th>\n",
       "      <th>contbr_nm</th>\n",
       "      <th>contbr_st</th>\n",
       "      <th>contbr_employer</th>\n",
       "      <th>contbr_occupation</th>\n",
       "      <th>contb_receipt_amt</th>\n",
       "      <th>contb_receipt_dt</th>\n",
       "    </tr>\n",
       "  </thead>\n",
       "  <tbody>\n",
       "    <tr>\n",
       "      <th>0</th>\n",
       "      <td>Perry, Rick</td>\n",
       "      <td>NORRIS, BOBBY</td>\n",
       "      <td>TX</td>\n",
       "      <td>SELF</td>\n",
       "      <td>REALTOR/ RANCHER</td>\n",
       "      <td>1000.0</td>\n",
       "      <td>14-DEC-11</td>\n",
       "    </tr>\n",
       "    <tr>\n",
       "      <th>1</th>\n",
       "      <td>Perry, Rick</td>\n",
       "      <td>HUNT, CAROLINE</td>\n",
       "      <td>TX</td>\n",
       "      <td>HOMEMAKER</td>\n",
       "      <td>HOMEMAKER</td>\n",
       "      <td>2500.0</td>\n",
       "      <td>14-DEC-11</td>\n",
       "    </tr>\n",
       "    <tr>\n",
       "      <th>2</th>\n",
       "      <td>Perry, Rick</td>\n",
       "      <td>ROBINOWITZ, DALE</td>\n",
       "      <td>TX</td>\n",
       "      <td>SELF-EMPLOYED</td>\n",
       "      <td>DENTIST</td>\n",
       "      <td>2500.0</td>\n",
       "      <td>14-DEC-11</td>\n",
       "    </tr>\n",
       "    <tr>\n",
       "      <th>3</th>\n",
       "      <td>Perry, Rick</td>\n",
       "      <td>ZUNIGA, DAVID &amp; SYLVIA</td>\n",
       "      <td>TX</td>\n",
       "      <td>DAVID M. ZUNIGA PE</td>\n",
       "      <td>OWNER</td>\n",
       "      <td>250.0</td>\n",
       "      <td>14-DEC-11</td>\n",
       "    </tr>\n",
       "    <tr>\n",
       "      <th>4</th>\n",
       "      <td>Perry, Rick</td>\n",
       "      <td>FOSTER, GLENNA</td>\n",
       "      <td>TX</td>\n",
       "      <td>SELF</td>\n",
       "      <td>INVESTOR/ CONSULTANT</td>\n",
       "      <td>1500.0</td>\n",
       "      <td>14-DEC-11</td>\n",
       "    </tr>\n",
       "  </tbody>\n",
       "</table>\n",
       "</div>"
      ],
      "text/plain": [
       "       cand_nm               contbr_nm contbr_st     contbr_employer  \\\n",
       "0  Perry, Rick           NORRIS, BOBBY        TX                SELF   \n",
       "1  Perry, Rick          HUNT, CAROLINE        TX           HOMEMAKER   \n",
       "2  Perry, Rick        ROBINOWITZ, DALE        TX       SELF-EMPLOYED   \n",
       "3  Perry, Rick  ZUNIGA, DAVID & SYLVIA        TX  DAVID M. ZUNIGA PE   \n",
       "4  Perry, Rick          FOSTER, GLENNA        TX                SELF   \n",
       "\n",
       "      contbr_occupation  contb_receipt_amt contb_receipt_dt  \n",
       "0      REALTOR/ RANCHER             1000.0        14-DEC-11  \n",
       "1             HOMEMAKER             2500.0        14-DEC-11  \n",
       "2               DENTIST             2500.0        14-DEC-11  \n",
       "3                 OWNER              250.0        14-DEC-11  \n",
       "4  INVESTOR/ CONSULTANT             1500.0        14-DEC-11  "
      ]
     },
     "execution_count": 4,
     "metadata": {},
     "output_type": "execute_result"
    }
   ],
   "source": [
    "contb3.head()"
   ]
  },
  {
   "cell_type": "code",
   "execution_count": 5,
   "metadata": {},
   "outputs": [],
   "source": [
    "contb = pd.concat([contb1,contb2,contb3],axis = 0)"
   ]
  },
  {
   "cell_type": "markdown",
   "metadata": {},
   "source": [
    "#### 1.3 数据预览和基本统计分析"
   ]
  },
  {
   "cell_type": "code",
   "execution_count": 6,
   "metadata": {},
   "outputs": [
    {
     "data": {
      "text/html": [
       "<div>\n",
       "<style scoped>\n",
       "    .dataframe tbody tr th:only-of-type {\n",
       "        vertical-align: middle;\n",
       "    }\n",
       "\n",
       "    .dataframe tbody tr th {\n",
       "        vertical-align: top;\n",
       "    }\n",
       "\n",
       "    .dataframe thead th {\n",
       "        text-align: right;\n",
       "    }\n",
       "</style>\n",
       "<table border=\"1\" class=\"dataframe\">\n",
       "  <thead>\n",
       "    <tr style=\"text-align: right;\">\n",
       "      <th></th>\n",
       "      <th>cand_nm</th>\n",
       "      <th>contbr_nm</th>\n",
       "      <th>contbr_st</th>\n",
       "      <th>contbr_employer</th>\n",
       "      <th>contbr_occupation</th>\n",
       "      <th>contb_receipt_amt</th>\n",
       "      <th>contb_receipt_dt</th>\n",
       "    </tr>\n",
       "  </thead>\n",
       "  <tbody>\n",
       "    <tr>\n",
       "      <th>0</th>\n",
       "      <td>Bachmann, Michelle</td>\n",
       "      <td>HARVEY, WILLIAM</td>\n",
       "      <td>AL</td>\n",
       "      <td>RETIRED</td>\n",
       "      <td>RETIRED</td>\n",
       "      <td>250.0</td>\n",
       "      <td>20-JUN-11</td>\n",
       "    </tr>\n",
       "    <tr>\n",
       "      <th>1</th>\n",
       "      <td>Bachmann, Michelle</td>\n",
       "      <td>HARVEY, WILLIAM</td>\n",
       "      <td>AL</td>\n",
       "      <td>RETIRED</td>\n",
       "      <td>RETIRED</td>\n",
       "      <td>50.0</td>\n",
       "      <td>23-JUN-11</td>\n",
       "    </tr>\n",
       "    <tr>\n",
       "      <th>2</th>\n",
       "      <td>Bachmann, Michelle</td>\n",
       "      <td>SMITH, LANIER</td>\n",
       "      <td>AL</td>\n",
       "      <td>INFORMATION REQUESTED</td>\n",
       "      <td>INFORMATION REQUESTED</td>\n",
       "      <td>250.0</td>\n",
       "      <td>05-JUL-11</td>\n",
       "    </tr>\n",
       "    <tr>\n",
       "      <th>3</th>\n",
       "      <td>Bachmann, Michelle</td>\n",
       "      <td>BLEVINS, DARONDA</td>\n",
       "      <td>AR</td>\n",
       "      <td>NONE</td>\n",
       "      <td>RETIRED</td>\n",
       "      <td>250.0</td>\n",
       "      <td>01-AUG-11</td>\n",
       "    </tr>\n",
       "    <tr>\n",
       "      <th>4</th>\n",
       "      <td>Bachmann, Michelle</td>\n",
       "      <td>WARDENBURG, HAROLD</td>\n",
       "      <td>AR</td>\n",
       "      <td>NONE</td>\n",
       "      <td>RETIRED</td>\n",
       "      <td>300.0</td>\n",
       "      <td>20-JUN-11</td>\n",
       "    </tr>\n",
       "  </tbody>\n",
       "</table>\n",
       "</div>"
      ],
      "text/plain": [
       "              cand_nm           contbr_nm contbr_st        contbr_employer  \\\n",
       "0  Bachmann, Michelle     HARVEY, WILLIAM        AL                RETIRED   \n",
       "1  Bachmann, Michelle     HARVEY, WILLIAM        AL                RETIRED   \n",
       "2  Bachmann, Michelle       SMITH, LANIER        AL  INFORMATION REQUESTED   \n",
       "3  Bachmann, Michelle    BLEVINS, DARONDA        AR                   NONE   \n",
       "4  Bachmann, Michelle  WARDENBURG, HAROLD        AR                   NONE   \n",
       "\n",
       "       contbr_occupation  contb_receipt_amt contb_receipt_dt  \n",
       "0                RETIRED              250.0        20-JUN-11  \n",
       "1                RETIRED               50.0        23-JUN-11  \n",
       "2  INFORMATION REQUESTED              250.0        05-JUL-11  \n",
       "3                RETIRED              250.0        01-AUG-11  \n",
       "4                RETIRED              300.0        20-JUN-11  "
      ]
     },
     "execution_count": 6,
     "metadata": {},
     "output_type": "execute_result"
    }
   ],
   "source": [
    "contb.head()"
   ]
  },
  {
   "cell_type": "code",
   "execution_count": 7,
   "metadata": {
    "scrolled": true
   },
   "outputs": [
    {
     "data": {
      "text/plain": [
       "(1001733, 7)"
      ]
     },
     "execution_count": 7,
     "metadata": {},
     "output_type": "execute_result"
    }
   ],
   "source": [
    "contb.shape"
   ]
  },
  {
   "cell_type": "code",
   "execution_count": 8,
   "metadata": {},
   "outputs": [
    {
     "name": "stdout",
     "output_type": "stream",
     "text": [
      "<class 'pandas.core.frame.DataFrame'>\n",
      "Int64Index: 1001733 entries, 0 to 1730\n",
      "Data columns (total 7 columns):\n",
      " #   Column             Non-Null Count    Dtype  \n",
      "---  ------             --------------    -----  \n",
      " 0   cand_nm            1001733 non-null  object \n",
      " 1   contbr_nm          1001733 non-null  object \n",
      " 2   contbr_st          1001729 non-null  object \n",
      " 3   contbr_employer    988004 non-null   object \n",
      " 4   contbr_occupation  993303 non-null   object \n",
      " 5   contb_receipt_amt  1001733 non-null  float64\n",
      " 6   contb_receipt_dt   1001733 non-null  object \n",
      "dtypes: float64(1), object(6)\n",
      "memory usage: 61.1+ MB\n"
     ]
    }
   ],
   "source": [
    "contb.info()"
   ]
  },
  {
   "cell_type": "code",
   "execution_count": 9,
   "metadata": {},
   "outputs": [
    {
     "data": {
      "text/html": [
       "<div>\n",
       "<style scoped>\n",
       "    .dataframe tbody tr th:only-of-type {\n",
       "        vertical-align: middle;\n",
       "    }\n",
       "\n",
       "    .dataframe tbody tr th {\n",
       "        vertical-align: top;\n",
       "    }\n",
       "\n",
       "    .dataframe thead th {\n",
       "        text-align: right;\n",
       "    }\n",
       "</style>\n",
       "<table border=\"1\" class=\"dataframe\">\n",
       "  <thead>\n",
       "    <tr style=\"text-align: right;\">\n",
       "      <th></th>\n",
       "      <th>contb_receipt_amt</th>\n",
       "    </tr>\n",
       "  </thead>\n",
       "  <tbody>\n",
       "    <tr>\n",
       "      <th>count</th>\n",
       "      <td>1.001733e+06</td>\n",
       "    </tr>\n",
       "    <tr>\n",
       "      <th>mean</th>\n",
       "      <td>2.982358e+02</td>\n",
       "    </tr>\n",
       "    <tr>\n",
       "      <th>std</th>\n",
       "      <td>3.749663e+03</td>\n",
       "    </tr>\n",
       "    <tr>\n",
       "      <th>min</th>\n",
       "      <td>-3.080000e+04</td>\n",
       "    </tr>\n",
       "    <tr>\n",
       "      <th>25%</th>\n",
       "      <td>3.500000e+01</td>\n",
       "    </tr>\n",
       "    <tr>\n",
       "      <th>50%</th>\n",
       "      <td>1.000000e+02</td>\n",
       "    </tr>\n",
       "    <tr>\n",
       "      <th>75%</th>\n",
       "      <td>2.500000e+02</td>\n",
       "    </tr>\n",
       "    <tr>\n",
       "      <th>max</th>\n",
       "      <td>2.014491e+06</td>\n",
       "    </tr>\n",
       "  </tbody>\n",
       "</table>\n",
       "</div>"
      ],
      "text/plain": [
       "       contb_receipt_amt\n",
       "count       1.001733e+06\n",
       "mean        2.982358e+02\n",
       "std         3.749663e+03\n",
       "min        -3.080000e+04\n",
       "25%         3.500000e+01\n",
       "50%         1.000000e+02\n",
       "75%         2.500000e+02\n",
       "max         2.014491e+06"
      ]
     },
     "execution_count": 9,
     "metadata": {},
     "output_type": "execute_result"
    }
   ],
   "source": [
    "contb.describe()"
   ]
  },
  {
   "cell_type": "markdown",
   "metadata": {},
   "source": [
    "### 2. 数据清洗"
   ]
  },
  {
   "cell_type": "markdown",
   "metadata": {},
   "source": [
    "#### 2.1 缺失值处理"
   ]
  },
  {
   "cell_type": "code",
   "execution_count": 10,
   "metadata": {
    "scrolled": true
   },
   "outputs": [
    {
     "name": "stdout",
     "output_type": "stream",
     "text": [
      "<class 'pandas.core.frame.DataFrame'>\n",
      "Int64Index: 1001733 entries, 0 to 1730\n",
      "Data columns (total 7 columns):\n",
      " #   Column             Non-Null Count    Dtype  \n",
      "---  ------             --------------    -----  \n",
      " 0   cand_nm            1001733 non-null  object \n",
      " 1   contbr_nm          1001733 non-null  object \n",
      " 2   contbr_st          1001729 non-null  object \n",
      " 3   contbr_employer    988004 non-null   object \n",
      " 4   contbr_occupation  993303 non-null   object \n",
      " 5   contb_receipt_amt  1001733 non-null  float64\n",
      " 6   contb_receipt_dt   1001733 non-null  object \n",
      "dtypes: float64(1), object(6)\n",
      "memory usage: 61.1+ MB\n"
     ]
    }
   ],
   "source": [
    "contb.info()"
   ]
  },
  {
   "cell_type": "code",
   "execution_count": 11,
   "metadata": {},
   "outputs": [
    {
     "data": {
      "text/html": [
       "<div>\n",
       "<style scoped>\n",
       "    .dataframe tbody tr th:only-of-type {\n",
       "        vertical-align: middle;\n",
       "    }\n",
       "\n",
       "    .dataframe tbody tr th {\n",
       "        vertical-align: top;\n",
       "    }\n",
       "\n",
       "    .dataframe thead th {\n",
       "        text-align: right;\n",
       "    }\n",
       "</style>\n",
       "<table border=\"1\" class=\"dataframe\">\n",
       "  <thead>\n",
       "    <tr style=\"text-align: right;\">\n",
       "      <th></th>\n",
       "      <th>cand_nm</th>\n",
       "      <th>contbr_nm</th>\n",
       "      <th>contbr_st</th>\n",
       "      <th>contbr_employer</th>\n",
       "      <th>contbr_occupation</th>\n",
       "      <th>contb_receipt_amt</th>\n",
       "      <th>contb_receipt_dt</th>\n",
       "    </tr>\n",
       "  </thead>\n",
       "  <tbody>\n",
       "    <tr>\n",
       "      <th>41</th>\n",
       "      <td>Bachmann, Michelle</td>\n",
       "      <td>MINNIS, RITA</td>\n",
       "      <td>CA</td>\n",
       "      <td>NaN</td>\n",
       "      <td>NaN</td>\n",
       "      <td>-1500.0</td>\n",
       "      <td>20-JUN-11</td>\n",
       "    </tr>\n",
       "    <tr>\n",
       "      <th>264</th>\n",
       "      <td>Bachmann, Michelle</td>\n",
       "      <td>BISHOP, GERARD</td>\n",
       "      <td>NY</td>\n",
       "      <td>NaN</td>\n",
       "      <td>NaN</td>\n",
       "      <td>-1700.0</td>\n",
       "      <td>28-JUN-11</td>\n",
       "    </tr>\n",
       "    <tr>\n",
       "      <th>752</th>\n",
       "      <td>Romney, Mitt</td>\n",
       "      <td>KNIGHT, RENA</td>\n",
       "      <td>AL</td>\n",
       "      <td>NaN</td>\n",
       "      <td>NaN</td>\n",
       "      <td>-60.0</td>\n",
       "      <td>07-MAR-12</td>\n",
       "    </tr>\n",
       "    <tr>\n",
       "      <th>897</th>\n",
       "      <td>Romney, Mitt</td>\n",
       "      <td>THE STEWART FIRM L.L.C.</td>\n",
       "      <td>AL</td>\n",
       "      <td>NaN</td>\n",
       "      <td>NaN</td>\n",
       "      <td>250.0</td>\n",
       "      <td>23-MAR-12</td>\n",
       "    </tr>\n",
       "    <tr>\n",
       "      <th>1033</th>\n",
       "      <td>Romney, Mitt</td>\n",
       "      <td>SELLERS, LEE</td>\n",
       "      <td>AL</td>\n",
       "      <td>NaN</td>\n",
       "      <td>NaN</td>\n",
       "      <td>-120.0</td>\n",
       "      <td>20-JAN-12</td>\n",
       "    </tr>\n",
       "    <tr>\n",
       "      <th>...</th>\n",
       "      <td>...</td>\n",
       "      <td>...</td>\n",
       "      <td>...</td>\n",
       "      <td>...</td>\n",
       "      <td>...</td>\n",
       "      <td>...</td>\n",
       "      <td>...</td>\n",
       "    </tr>\n",
       "    <tr>\n",
       "      <th>1715</th>\n",
       "      <td>Perry, Rick</td>\n",
       "      <td>TEXAS ENERGY L.L.C.</td>\n",
       "      <td>WY</td>\n",
       "      <td>NaN</td>\n",
       "      <td>NaN</td>\n",
       "      <td>250.0</td>\n",
       "      <td>30-SEP-11</td>\n",
       "    </tr>\n",
       "    <tr>\n",
       "      <th>1717</th>\n",
       "      <td>Perry, Rick</td>\n",
       "      <td>HARDER, ROBERT</td>\n",
       "      <td>WY</td>\n",
       "      <td>NaN</td>\n",
       "      <td>RETIRED</td>\n",
       "      <td>100.0</td>\n",
       "      <td>12-NOV-11</td>\n",
       "    </tr>\n",
       "    <tr>\n",
       "      <th>1720</th>\n",
       "      <td>Perry, Rick</td>\n",
       "      <td>HARDER, ROBERT</td>\n",
       "      <td>WY</td>\n",
       "      <td>NaN</td>\n",
       "      <td>RETIRED</td>\n",
       "      <td>100.0</td>\n",
       "      <td>01-OCT-11</td>\n",
       "    </tr>\n",
       "    <tr>\n",
       "      <th>1722</th>\n",
       "      <td>Perry, Rick</td>\n",
       "      <td>HARDER, ROBERT</td>\n",
       "      <td>WY</td>\n",
       "      <td>NaN</td>\n",
       "      <td>RETIRED</td>\n",
       "      <td>100.0</td>\n",
       "      <td>29-OCT-11</td>\n",
       "    </tr>\n",
       "    <tr>\n",
       "      <th>1723</th>\n",
       "      <td>Perry, Rick</td>\n",
       "      <td>HARDER, ROBERT</td>\n",
       "      <td>WY</td>\n",
       "      <td>NaN</td>\n",
       "      <td>RETIRED</td>\n",
       "      <td>100.0</td>\n",
       "      <td>30-NOV-11</td>\n",
       "    </tr>\n",
       "  </tbody>\n",
       "</table>\n",
       "<p>13729 rows × 7 columns</p>\n",
       "</div>"
      ],
      "text/plain": [
       "                 cand_nm                contbr_nm contbr_st contbr_employer  \\\n",
       "41    Bachmann, Michelle             MINNIS, RITA        CA             NaN   \n",
       "264   Bachmann, Michelle           BISHOP, GERARD        NY             NaN   \n",
       "752         Romney, Mitt             KNIGHT, RENA        AL             NaN   \n",
       "897         Romney, Mitt  THE STEWART FIRM L.L.C.        AL             NaN   \n",
       "1033        Romney, Mitt             SELLERS, LEE        AL             NaN   \n",
       "...                  ...                      ...       ...             ...   \n",
       "1715         Perry, Rick      TEXAS ENERGY L.L.C.        WY             NaN   \n",
       "1717         Perry, Rick           HARDER, ROBERT        WY             NaN   \n",
       "1720         Perry, Rick           HARDER, ROBERT        WY             NaN   \n",
       "1722         Perry, Rick           HARDER, ROBERT        WY             NaN   \n",
       "1723         Perry, Rick           HARDER, ROBERT        WY             NaN   \n",
       "\n",
       "     contbr_occupation  contb_receipt_amt contb_receipt_dt  \n",
       "41                 NaN            -1500.0        20-JUN-11  \n",
       "264                NaN            -1700.0        28-JUN-11  \n",
       "752                NaN              -60.0        07-MAR-12  \n",
       "897                NaN              250.0        23-MAR-12  \n",
       "1033               NaN             -120.0        20-JAN-12  \n",
       "...                ...                ...              ...  \n",
       "1715               NaN              250.0        30-SEP-11  \n",
       "1717           RETIRED              100.0        12-NOV-11  \n",
       "1720           RETIRED              100.0        01-OCT-11  \n",
       "1722           RETIRED              100.0        29-OCT-11  \n",
       "1723           RETIRED              100.0        30-NOV-11  \n",
       "\n",
       "[13729 rows x 7 columns]"
      ]
     },
     "execution_count": 11,
     "metadata": {},
     "output_type": "execute_result"
    }
   ],
   "source": [
    "cond = contb['contbr_employer'].isnull()\n",
    "contb[cond]"
   ]
  },
  {
   "cell_type": "code",
   "execution_count": 12,
   "metadata": {},
   "outputs": [],
   "source": [
    "# 没有提供NOT PROVIDE 公司保密，没有来得及写\n",
    "contb['contbr_employer'].fillna('NOT PROVIDE',inplace = True)"
   ]
  },
  {
   "cell_type": "code",
   "execution_count": 13,
   "metadata": {},
   "outputs": [
    {
     "name": "stdout",
     "output_type": "stream",
     "text": [
      "<class 'pandas.core.frame.DataFrame'>\n",
      "Int64Index: 1001733 entries, 0 to 1730\n",
      "Data columns (total 7 columns):\n",
      " #   Column             Non-Null Count    Dtype  \n",
      "---  ------             --------------    -----  \n",
      " 0   cand_nm            1001733 non-null  object \n",
      " 1   contbr_nm          1001733 non-null  object \n",
      " 2   contbr_st          1001729 non-null  object \n",
      " 3   contbr_employer    1001733 non-null  object \n",
      " 4   contbr_occupation  993303 non-null   object \n",
      " 5   contb_receipt_amt  1001733 non-null  float64\n",
      " 6   contb_receipt_dt   1001733 non-null  object \n",
      "dtypes: float64(1), object(6)\n",
      "memory usage: 61.1+ MB\n"
     ]
    }
   ],
   "source": [
    "contb.info()"
   ]
  },
  {
   "cell_type": "code",
   "execution_count": 14,
   "metadata": {},
   "outputs": [],
   "source": [
    "contb['contbr_occupation'].fillna('NOT PROVIDE',inplace = True)"
   ]
  },
  {
   "cell_type": "code",
   "execution_count": 15,
   "metadata": {},
   "outputs": [
    {
     "name": "stdout",
     "output_type": "stream",
     "text": [
      "<class 'pandas.core.frame.DataFrame'>\n",
      "Int64Index: 1001733 entries, 0 to 1730\n",
      "Data columns (total 7 columns):\n",
      " #   Column             Non-Null Count    Dtype  \n",
      "---  ------             --------------    -----  \n",
      " 0   cand_nm            1001733 non-null  object \n",
      " 1   contbr_nm          1001733 non-null  object \n",
      " 2   contbr_st          1001729 non-null  object \n",
      " 3   contbr_employer    1001733 non-null  object \n",
      " 4   contbr_occupation  1001733 non-null  object \n",
      " 5   contb_receipt_amt  1001733 non-null  float64\n",
      " 6   contb_receipt_dt   1001733 non-null  object \n",
      "dtypes: float64(1), object(6)\n",
      "memory usage: 61.1+ MB\n"
     ]
    }
   ],
   "source": [
    "contb.info()"
   ]
  },
  {
   "cell_type": "code",
   "execution_count": 16,
   "metadata": {},
   "outputs": [
    {
     "data": {
      "text/html": [
       "<div>\n",
       "<style scoped>\n",
       "    .dataframe tbody tr th:only-of-type {\n",
       "        vertical-align: middle;\n",
       "    }\n",
       "\n",
       "    .dataframe tbody tr th {\n",
       "        vertical-align: top;\n",
       "    }\n",
       "\n",
       "    .dataframe thead th {\n",
       "        text-align: right;\n",
       "    }\n",
       "</style>\n",
       "<table border=\"1\" class=\"dataframe\">\n",
       "  <thead>\n",
       "    <tr style=\"text-align: right;\">\n",
       "      <th></th>\n",
       "      <th>cand_nm</th>\n",
       "      <th>contbr_nm</th>\n",
       "      <th>contbr_st</th>\n",
       "      <th>contbr_employer</th>\n",
       "      <th>contbr_occupation</th>\n",
       "      <th>contb_receipt_amt</th>\n",
       "      <th>contb_receipt_dt</th>\n",
       "    </tr>\n",
       "  </thead>\n",
       "  <tbody>\n",
       "    <tr>\n",
       "      <th>453997</th>\n",
       "      <td>Obama, Barack</td>\n",
       "      <td>NEWBURG, ANDRE</td>\n",
       "      <td>NaN</td>\n",
       "      <td>NOT EMPLOYED</td>\n",
       "      <td>RETIRED</td>\n",
       "      <td>1000.0</td>\n",
       "      <td>01-DEC-11</td>\n",
       "    </tr>\n",
       "    <tr>\n",
       "      <th>453998</th>\n",
       "      <td>Obama, Barack</td>\n",
       "      <td>HARBARD, SONJA</td>\n",
       "      <td>NaN</td>\n",
       "      <td>SELF-EMPLOYED</td>\n",
       "      <td>WRITER</td>\n",
       "      <td>250.0</td>\n",
       "      <td>31-MAR-12</td>\n",
       "    </tr>\n",
       "    <tr>\n",
       "      <th>453999</th>\n",
       "      <td>Obama, Barack</td>\n",
       "      <td>LAKIN-THOMAS, PATRICIA</td>\n",
       "      <td>NaN</td>\n",
       "      <td>YORK UNIVERSITY</td>\n",
       "      <td>UNIVERSITY PROFESSOR</td>\n",
       "      <td>300.0</td>\n",
       "      <td>31-MAR-12</td>\n",
       "    </tr>\n",
       "    <tr>\n",
       "      <th>454000</th>\n",
       "      <td>Obama, Barack</td>\n",
       "      <td>MICHAEALS, MARNIN</td>\n",
       "      <td>NaN</td>\n",
       "      <td>BAKER &amp; MCKENZIE ZURICH</td>\n",
       "      <td>ATTORNEY</td>\n",
       "      <td>250.0</td>\n",
       "      <td>31-MAR-12</td>\n",
       "    </tr>\n",
       "  </tbody>\n",
       "</table>\n",
       "</div>"
      ],
      "text/plain": [
       "              cand_nm               contbr_nm contbr_st  \\\n",
       "453997  Obama, Barack          NEWBURG, ANDRE       NaN   \n",
       "453998  Obama, Barack          HARBARD, SONJA       NaN   \n",
       "453999  Obama, Barack  LAKIN-THOMAS, PATRICIA       NaN   \n",
       "454000  Obama, Barack       MICHAEALS, MARNIN       NaN   \n",
       "\n",
       "                contbr_employer     contbr_occupation  contb_receipt_amt  \\\n",
       "453997             NOT EMPLOYED               RETIRED             1000.0   \n",
       "453998            SELF-EMPLOYED                WRITER              250.0   \n",
       "453999          YORK UNIVERSITY  UNIVERSITY PROFESSOR              300.0   \n",
       "454000  BAKER & MCKENZIE ZURICH              ATTORNEY              250.0   \n",
       "\n",
       "       contb_receipt_dt  \n",
       "453997        01-DEC-11  \n",
       "453998        31-MAR-12  \n",
       "453999        31-MAR-12  \n",
       "454000        31-MAR-12  "
      ]
     },
     "execution_count": 16,
     "metadata": {},
     "output_type": "execute_result"
    }
   ],
   "source": [
    "cond = contb['contbr_st'].isnull()\n",
    "contb[cond]"
   ]
  },
  {
   "cell_type": "code",
   "execution_count": 17,
   "metadata": {},
   "outputs": [],
   "source": [
    "contb['contbr_st'].fillna('NOT PROVIDE',inplace = True)"
   ]
  },
  {
   "cell_type": "code",
   "execution_count": 18,
   "metadata": {},
   "outputs": [
    {
     "name": "stdout",
     "output_type": "stream",
     "text": [
      "<class 'pandas.core.frame.DataFrame'>\n",
      "Int64Index: 1001733 entries, 0 to 1730\n",
      "Data columns (total 7 columns):\n",
      " #   Column             Non-Null Count    Dtype  \n",
      "---  ------             --------------    -----  \n",
      " 0   cand_nm            1001733 non-null  object \n",
      " 1   contbr_nm          1001733 non-null  object \n",
      " 2   contbr_st          1001733 non-null  object \n",
      " 3   contbr_employer    1001733 non-null  object \n",
      " 4   contbr_occupation  1001733 non-null  object \n",
      " 5   contb_receipt_amt  1001733 non-null  float64\n",
      " 6   contb_receipt_dt   1001733 non-null  object \n",
      "dtypes: float64(1), object(6)\n",
      "memory usage: 61.1+ MB\n"
     ]
    }
   ],
   "source": [
    "contb.info()"
   ]
  },
  {
   "cell_type": "markdown",
   "metadata": {},
   "source": [
    "#### 2.2 数据转换\n",
    "#### 利用字典映射进行转换：党派分析"
   ]
  },
  {
   "cell_type": "code",
   "execution_count": 19,
   "metadata": {},
   "outputs": [],
   "source": [
    "#通过搜索引擎等途径，获取到每个总统候选人的所属党派，建立字典parties，候选人名字作为键，所属党派作为对应的值\n",
    "parties = {'Bachmann, Michelle': 'Republican',\n",
    "           'Cain, Herman': 'Republican',\n",
    "           'Gingrich, Newt': 'Republican',\n",
    "           'Huntsman, Jon': 'Republican',\n",
    "           'Johnson, Gary Earl': 'Republican',\n",
    "           'McCotter, Thaddeus G': 'Republican',\n",
    "           'Obama, Barack': 'Democrat',\n",
    "           'Paul, Ron': 'Republican',\n",
    "           'Pawlenty, Timothy': 'Republican',\n",
    "           'Perry, Rick': 'Republican',\n",
    "           \"Roemer, Charles E. 'Buddy' III\": 'Republican',\n",
    "           'Romney, Mitt': 'Republican',\n",
    "           'Santorum, Rick': 'Republican'}"
   ]
  },
  {
   "cell_type": "code",
   "execution_count": 20,
   "metadata": {
    "scrolled": true
   },
   "outputs": [
    {
     "data": {
      "text/plain": [
       "array(['Bachmann, Michelle', 'Romney, Mitt', 'Obama, Barack',\n",
       "       \"Roemer, Charles E. 'Buddy' III\", 'Pawlenty, Timothy',\n",
       "       'Johnson, Gary Earl', 'Paul, Ron', 'Santorum, Rick',\n",
       "       'Cain, Herman', 'Gingrich, Newt', 'McCotter, Thaddeus G',\n",
       "       'Huntsman, Jon', 'Perry, Rick'], dtype=object)"
      ]
     },
     "execution_count": 20,
     "metadata": {},
     "output_type": "execute_result"
    }
   ],
   "source": [
    "contb.cand_nm.unique()"
   ]
  },
  {
   "cell_type": "code",
   "execution_count": 21,
   "metadata": {},
   "outputs": [
    {
     "data": {
      "text/html": [
       "<div>\n",
       "<style scoped>\n",
       "    .dataframe tbody tr th:only-of-type {\n",
       "        vertical-align: middle;\n",
       "    }\n",
       "\n",
       "    .dataframe tbody tr th {\n",
       "        vertical-align: top;\n",
       "    }\n",
       "\n",
       "    .dataframe thead th {\n",
       "        text-align: right;\n",
       "    }\n",
       "</style>\n",
       "<table border=\"1\" class=\"dataframe\">\n",
       "  <thead>\n",
       "    <tr style=\"text-align: right;\">\n",
       "      <th></th>\n",
       "      <th>cand_nm</th>\n",
       "      <th>contbr_nm</th>\n",
       "      <th>contbr_st</th>\n",
       "      <th>contbr_employer</th>\n",
       "      <th>contbr_occupation</th>\n",
       "      <th>contb_receipt_amt</th>\n",
       "      <th>contb_receipt_dt</th>\n",
       "    </tr>\n",
       "  </thead>\n",
       "  <tbody>\n",
       "    <tr>\n",
       "      <th>0</th>\n",
       "      <td>Bachmann, Michelle</td>\n",
       "      <td>HARVEY, WILLIAM</td>\n",
       "      <td>AL</td>\n",
       "      <td>RETIRED</td>\n",
       "      <td>RETIRED</td>\n",
       "      <td>250.0</td>\n",
       "      <td>20-JUN-11</td>\n",
       "    </tr>\n",
       "    <tr>\n",
       "      <th>1</th>\n",
       "      <td>Bachmann, Michelle</td>\n",
       "      <td>HARVEY, WILLIAM</td>\n",
       "      <td>AL</td>\n",
       "      <td>RETIRED</td>\n",
       "      <td>RETIRED</td>\n",
       "      <td>50.0</td>\n",
       "      <td>23-JUN-11</td>\n",
       "    </tr>\n",
       "    <tr>\n",
       "      <th>2</th>\n",
       "      <td>Bachmann, Michelle</td>\n",
       "      <td>SMITH, LANIER</td>\n",
       "      <td>AL</td>\n",
       "      <td>INFORMATION REQUESTED</td>\n",
       "      <td>INFORMATION REQUESTED</td>\n",
       "      <td>250.0</td>\n",
       "      <td>05-JUL-11</td>\n",
       "    </tr>\n",
       "    <tr>\n",
       "      <th>3</th>\n",
       "      <td>Bachmann, Michelle</td>\n",
       "      <td>BLEVINS, DARONDA</td>\n",
       "      <td>AR</td>\n",
       "      <td>NONE</td>\n",
       "      <td>RETIRED</td>\n",
       "      <td>250.0</td>\n",
       "      <td>01-AUG-11</td>\n",
       "    </tr>\n",
       "    <tr>\n",
       "      <th>4</th>\n",
       "      <td>Bachmann, Michelle</td>\n",
       "      <td>WARDENBURG, HAROLD</td>\n",
       "      <td>AR</td>\n",
       "      <td>NONE</td>\n",
       "      <td>RETIRED</td>\n",
       "      <td>300.0</td>\n",
       "      <td>20-JUN-11</td>\n",
       "    </tr>\n",
       "  </tbody>\n",
       "</table>\n",
       "</div>"
      ],
      "text/plain": [
       "              cand_nm           contbr_nm contbr_st        contbr_employer  \\\n",
       "0  Bachmann, Michelle     HARVEY, WILLIAM        AL                RETIRED   \n",
       "1  Bachmann, Michelle     HARVEY, WILLIAM        AL                RETIRED   \n",
       "2  Bachmann, Michelle       SMITH, LANIER        AL  INFORMATION REQUESTED   \n",
       "3  Bachmann, Michelle    BLEVINS, DARONDA        AR                   NONE   \n",
       "4  Bachmann, Michelle  WARDENBURG, HAROLD        AR                   NONE   \n",
       "\n",
       "       contbr_occupation  contb_receipt_amt contb_receipt_dt  \n",
       "0                RETIRED              250.0        20-JUN-11  \n",
       "1                RETIRED               50.0        23-JUN-11  \n",
       "2  INFORMATION REQUESTED              250.0        05-JUL-11  \n",
       "3                RETIRED              250.0        01-AUG-11  \n",
       "4                RETIRED              300.0        20-JUN-11  "
      ]
     },
     "execution_count": 21,
     "metadata": {},
     "output_type": "execute_result"
    }
   ],
   "source": [
    "contb.head()"
   ]
  },
  {
   "cell_type": "code",
   "execution_count": 22,
   "metadata": {},
   "outputs": [
    {
     "name": "stdout",
     "output_type": "stream",
     "text": [
      "Wall time: 135 ms\n"
     ]
    }
   ],
   "source": [
    "%%time\n",
    "# map中可以传递字典，100万数据，增加一列耗时125ms\n",
    "contb['party'] = contb['cand_nm'].map(parties)"
   ]
  },
  {
   "cell_type": "code",
   "execution_count": 23,
   "metadata": {},
   "outputs": [
    {
     "data": {
      "text/html": [
       "<div>\n",
       "<style scoped>\n",
       "    .dataframe tbody tr th:only-of-type {\n",
       "        vertical-align: middle;\n",
       "    }\n",
       "\n",
       "    .dataframe tbody tr th {\n",
       "        vertical-align: top;\n",
       "    }\n",
       "\n",
       "    .dataframe thead th {\n",
       "        text-align: right;\n",
       "    }\n",
       "</style>\n",
       "<table border=\"1\" class=\"dataframe\">\n",
       "  <thead>\n",
       "    <tr style=\"text-align: right;\">\n",
       "      <th></th>\n",
       "      <th>cand_nm</th>\n",
       "      <th>contbr_nm</th>\n",
       "      <th>contbr_st</th>\n",
       "      <th>contbr_employer</th>\n",
       "      <th>contbr_occupation</th>\n",
       "      <th>contb_receipt_amt</th>\n",
       "      <th>contb_receipt_dt</th>\n",
       "      <th>party</th>\n",
       "    </tr>\n",
       "  </thead>\n",
       "  <tbody>\n",
       "    <tr>\n",
       "      <th>0</th>\n",
       "      <td>Bachmann, Michelle</td>\n",
       "      <td>HARVEY, WILLIAM</td>\n",
       "      <td>AL</td>\n",
       "      <td>RETIRED</td>\n",
       "      <td>RETIRED</td>\n",
       "      <td>250.0</td>\n",
       "      <td>20-JUN-11</td>\n",
       "      <td>Republican</td>\n",
       "    </tr>\n",
       "    <tr>\n",
       "      <th>1</th>\n",
       "      <td>Bachmann, Michelle</td>\n",
       "      <td>HARVEY, WILLIAM</td>\n",
       "      <td>AL</td>\n",
       "      <td>RETIRED</td>\n",
       "      <td>RETIRED</td>\n",
       "      <td>50.0</td>\n",
       "      <td>23-JUN-11</td>\n",
       "      <td>Republican</td>\n",
       "    </tr>\n",
       "    <tr>\n",
       "      <th>2</th>\n",
       "      <td>Bachmann, Michelle</td>\n",
       "      <td>SMITH, LANIER</td>\n",
       "      <td>AL</td>\n",
       "      <td>INFORMATION REQUESTED</td>\n",
       "      <td>INFORMATION REQUESTED</td>\n",
       "      <td>250.0</td>\n",
       "      <td>05-JUL-11</td>\n",
       "      <td>Republican</td>\n",
       "    </tr>\n",
       "    <tr>\n",
       "      <th>3</th>\n",
       "      <td>Bachmann, Michelle</td>\n",
       "      <td>BLEVINS, DARONDA</td>\n",
       "      <td>AR</td>\n",
       "      <td>NONE</td>\n",
       "      <td>RETIRED</td>\n",
       "      <td>250.0</td>\n",
       "      <td>01-AUG-11</td>\n",
       "      <td>Republican</td>\n",
       "    </tr>\n",
       "    <tr>\n",
       "      <th>4</th>\n",
       "      <td>Bachmann, Michelle</td>\n",
       "      <td>WARDENBURG, HAROLD</td>\n",
       "      <td>AR</td>\n",
       "      <td>NONE</td>\n",
       "      <td>RETIRED</td>\n",
       "      <td>300.0</td>\n",
       "      <td>20-JUN-11</td>\n",
       "      <td>Republican</td>\n",
       "    </tr>\n",
       "  </tbody>\n",
       "</table>\n",
       "</div>"
      ],
      "text/plain": [
       "              cand_nm           contbr_nm contbr_st        contbr_employer  \\\n",
       "0  Bachmann, Michelle     HARVEY, WILLIAM        AL                RETIRED   \n",
       "1  Bachmann, Michelle     HARVEY, WILLIAM        AL                RETIRED   \n",
       "2  Bachmann, Michelle       SMITH, LANIER        AL  INFORMATION REQUESTED   \n",
       "3  Bachmann, Michelle    BLEVINS, DARONDA        AR                   NONE   \n",
       "4  Bachmann, Michelle  WARDENBURG, HAROLD        AR                   NONE   \n",
       "\n",
       "       contbr_occupation  contb_receipt_amt contb_receipt_dt       party  \n",
       "0                RETIRED              250.0        20-JUN-11  Republican  \n",
       "1                RETIRED               50.0        23-JUN-11  Republican  \n",
       "2  INFORMATION REQUESTED              250.0        05-JUL-11  Republican  \n",
       "3                RETIRED              250.0        01-AUG-11  Republican  \n",
       "4                RETIRED              300.0        20-JUN-11  Republican  "
      ]
     },
     "execution_count": 23,
     "metadata": {},
     "output_type": "execute_result"
    }
   ],
   "source": [
    "contb.head()"
   ]
  },
  {
   "cell_type": "code",
   "execution_count": 24,
   "metadata": {
    "scrolled": true
   },
   "outputs": [
    {
     "data": {
      "text/plain": [
       "Democrat      593747\n",
       "Republican    407986\n",
       "Name: party, dtype: int64"
      ]
     },
     "execution_count": 24,
     "metadata": {},
     "output_type": "execute_result"
    }
   ],
   "source": [
    "contb['party'].value_counts()"
   ]
  },
  {
   "cell_type": "code",
   "execution_count": 25,
   "metadata": {},
   "outputs": [
    {
     "data": {
      "text/plain": [
       "Index(['cand_nm', 'contbr_nm', 'contbr_st', 'contbr_employer',\n",
       "       'contbr_occupation', 'contb_receipt_amt', 'contb_receipt_dt', 'party'],\n",
       "      dtype='object')"
      ]
     },
     "execution_count": 25,
     "metadata": {},
     "output_type": "execute_result"
    }
   ],
   "source": [
    "contb.columns"
   ]
  },
  {
   "cell_type": "code",
   "execution_count": 26,
   "metadata": {},
   "outputs": [
    {
     "data": {
      "text/plain": [
       "party\n",
       "Democrat      1.335028e+08\n",
       "Republican    1.652498e+08\n",
       "Name: contb_receipt_amt, dtype: float64"
      ]
     },
     "execution_count": 26,
     "metadata": {},
     "output_type": "execute_result"
    }
   ],
   "source": [
    "contb.groupby('party')['contb_receipt_amt'].sum()"
   ]
  },
  {
   "cell_type": "markdown",
   "metadata": {},
   "source": [
    "#### 排序：按照职业汇总对赞助总金额进行排序"
   ]
  },
  {
   "cell_type": "code",
   "execution_count": 27,
   "metadata": {},
   "outputs": [],
   "source": [
    "grouped_occupation = contb.groupby(['contbr_occupation'])['contb_receipt_amt'].sum()\n"
   ]
  },
  {
   "cell_type": "code",
   "execution_count": 28,
   "metadata": {},
   "outputs": [],
   "source": [
    "occupation = {'INFORMATION REQUESTED PER BEST EFFORTS':'NOT PROVIDE',\n",
    "             'INFORMATION REQUESTED':'NOT PROVIDE',\n",
    "              'C.E.O':'CEO',\n",
    "              'LAWYER':'ATTORNEY',\n",
    "              'SELF':'SELF-EMPLOYED',\n",
    "              'SELF EMPLOYED ':'SELF-EMPLOYED'}"
   ]
  },
  {
   "cell_type": "code",
   "execution_count": 29,
   "metadata": {},
   "outputs": [
    {
     "data": {
      "text/plain": [
       "contbr_occupation\n",
       "RETIRED                                   48176647.00\n",
       "ATTORNEY                                  18470473.30\n",
       "HOMEMAKER                                 17484807.65\n",
       "INFORMATION REQUESTED PER BEST EFFORTS    15859514.55\n",
       "INFORMATION REQUESTED                      8742357.59\n",
       "PHYSICIAN                                  7224044.40\n",
       "PRESIDENT                                  6347843.59\n",
       "EXECUTIVE                                  5273717.90\n",
       "CONSULTANT                                 4932627.98\n",
       "NOT PROVIDE                                4224760.39\n",
       "CEO                                        3570942.20\n",
       "LAWYER                                     3537982.19\n",
       "OWNER                                      3278488.16\n",
       "INVESTOR                                   3204481.92\n",
       "ENGINEER                                   2730527.43\n",
       "PROFESSOR                                  2458033.81\n",
       "C.E.O.                                     2433218.11\n",
       "SELF-EMPLOYED                              2259150.94\n",
       "MANAGER                                    2167571.47\n",
       "REAL ESTATE                                2110499.34\n",
       "SALES                                      1814901.82\n",
       "NOT EMPLOYED                               1752927.93\n",
       "BUSINESS OWNER                             1736511.73\n",
       "TEACHER                                    1709754.05\n",
       "CHAIRMAN                                   1691595.37\n",
       "STUDENT                                    1679435.28\n",
       "FINANCE                                    1664021.31\n",
       "BANKER                                     1462903.13\n",
       "WRITER                                     1303267.29\n",
       "PARTNER                                    1177656.55\n",
       "VICE PRESIDENT                             1177600.41\n",
       "INVESTMENTS                                1120947.94\n",
       "MANAGING DIRECTOR                           969128.57\n",
       "INVESTMENT BANKER                           961297.90\n",
       "ARTIST                                      959387.57\n",
       "DIRECTOR                                    855121.89\n",
       "SOFTWARE ENGINEER                           836558.02\n",
       "ACCOUNTANT                                  828374.46\n",
       "FARMER                                      747042.89\n",
       "DENTIST                                     741347.59\n",
       "FINANCIAL ADVISOR                           660786.63\n",
       "ARCHITECT                                   656140.41\n",
       "PRESIDENT & C.E.O.                          642686.28\n",
       "CPA                                         606266.64\n",
       "INVESTMENT MANAGER                          601899.60\n",
       "INVESTMENT MANAGEMENT                       583189.02\n",
       "REAL ESTATE DEVELOPER                       578934.25\n",
       "PRINCIPAL                                   569543.44\n",
       "REQUESTED                                   567872.46\n",
       "PRIVATE EQUITY                              555939.00\n",
       "Name: contb_receipt_amt, dtype: float64"
      ]
     },
     "execution_count": 29,
     "metadata": {},
     "output_type": "execute_result"
    }
   ],
   "source": [
    "grouped_occupation.sort_values(ascending=False)[:50]"
   ]
  },
  {
   "cell_type": "code",
   "execution_count": 30,
   "metadata": {},
   "outputs": [],
   "source": [
    "f = lambda x : occupation.get(x,x)\n",
    "contb['contbr_occupation'] = contb['contbr_occupation'].map(f)"
   ]
  },
  {
   "cell_type": "code",
   "execution_count": 31,
   "metadata": {},
   "outputs": [
    {
     "data": {
      "text/plain": [
       "contbr_occupation\n",
       "RETIRED                  48176647.00\n",
       "NOT PROVIDE              28826632.53\n",
       "ATTORNEY                 22008455.49\n",
       "HOMEMAKER                17484807.65\n",
       "PHYSICIAN                 7224044.40\n",
       "PRESIDENT                 6347843.59\n",
       "EXECUTIVE                 5273717.90\n",
       "CONSULTANT                4932627.98\n",
       "CEO                       3594443.20\n",
       "OWNER                     3278488.16\n",
       "INVESTOR                  3204481.92\n",
       "ENGINEER                  2730527.43\n",
       "SELF-EMPLOYED             2628341.10\n",
       "PROFESSOR                 2458033.81\n",
       "C.E.O.                    2433218.11\n",
       "MANAGER                   2167571.47\n",
       "REAL ESTATE               2110499.34\n",
       "SALES                     1814901.82\n",
       "NOT EMPLOYED              1752927.93\n",
       "BUSINESS OWNER            1736511.73\n",
       "TEACHER                   1709754.05\n",
       "CHAIRMAN                  1691595.37\n",
       "STUDENT                   1679435.28\n",
       "FINANCE                   1664021.31\n",
       "BANKER                    1462903.13\n",
       "WRITER                    1303267.29\n",
       "PARTNER                   1177656.55\n",
       "VICE PRESIDENT            1177600.41\n",
       "INVESTMENTS               1120947.94\n",
       "MANAGING DIRECTOR          969128.57\n",
       "INVESTMENT BANKER          961297.90\n",
       "ARTIST                     959387.57\n",
       "DIRECTOR                   855121.89\n",
       "SOFTWARE ENGINEER          836558.02\n",
       "ACCOUNTANT                 828374.46\n",
       "FARMER                     747042.89\n",
       "DENTIST                    741347.59\n",
       "FINANCIAL ADVISOR          660786.63\n",
       "ARCHITECT                  656140.41\n",
       "PRESIDENT & C.E.O.         642686.28\n",
       "CPA                        606266.64\n",
       "INVESTMENT MANAGER         601899.60\n",
       "INVESTMENT MANAGEMENT      583189.02\n",
       "REAL ESTATE DEVELOPER      578934.25\n",
       "PRINCIPAL                  569543.44\n",
       "REQUESTED                  567872.46\n",
       "PRIVATE EQUITY             555939.00\n",
       "REALTOR                    534020.57\n",
       "MARKETING                  530017.39\n",
       "ENTREPRENEUR               529044.14\n",
       "Name: contb_receipt_amt, dtype: float64"
      ]
     },
     "execution_count": 31,
     "metadata": {},
     "output_type": "execute_result"
    }
   ],
   "source": [
    "grouped_occupation = contb.groupby(['contbr_occupation'])['contb_receipt_amt'].sum()\n",
    "grouped_occupation.sort_values(ascending=False)[:50]"
   ]
  },
  {
   "cell_type": "markdown",
   "metadata": {},
   "source": [
    "按照职位进行汇总，计算赞助总金额，展示前20项，发现不少职业是相同的，只不过是表达不一样而已，如C.E.O.与CEO，都是一个职业"
   ]
  },
  {
   "cell_type": "markdown",
   "metadata": {},
   "source": [
    "#### 利用函数进行数据转换：职业与雇主信息分析"
   ]
  },
  {
   "cell_type": "markdown",
   "metadata": {},
   "source": [
    "建立一个职业对应字典，把相同职业的不同表达映射为对应的职业，比如把C.E.O.映射为CEO"
   ]
  },
  {
   "cell_type": "code",
   "execution_count": 32,
   "metadata": {},
   "outputs": [
    {
     "data": {
      "text/plain": [
       "Index(['cand_nm', 'contbr_nm', 'contbr_st', 'contbr_employer',\n",
       "       'contbr_occupation', 'contb_receipt_amt', 'contb_receipt_dt', 'party'],\n",
       "      dtype='object')"
      ]
     },
     "execution_count": 32,
     "metadata": {},
     "output_type": "execute_result"
    }
   ],
   "source": [
    "contb.columns"
   ]
  },
  {
   "cell_type": "code",
   "execution_count": 33,
   "metadata": {},
   "outputs": [],
   "source": [
    "employer = {'INFORMATION REQUESTED PER BEST EFFORTS':'NOT PROVIDE',\n",
    "            'INFORMATION REQUESTED':'NOT PROVIDE',\n",
    "            'SELF':'SELF-EMPLOYED',\n",
    "            'SELF EMPLOYED':'SELF-EMPLOYED'}"
   ]
  },
  {
   "cell_type": "code",
   "execution_count": 34,
   "metadata": {
    "scrolled": true
   },
   "outputs": [
    {
     "data": {
      "text/plain": [
       "(135651,)"
      ]
     },
     "execution_count": 34,
     "metadata": {},
     "output_type": "execute_result"
    }
   ],
   "source": [
    "# 按照公司进行统计，汇总\n",
    "contb.groupby(['contbr_employer'])['contb_receipt_amt'].sum().sort_values(ascending = False).shape"
   ]
  },
  {
   "cell_type": "code",
   "execution_count": 35,
   "metadata": {},
   "outputs": [],
   "source": [
    "f = lambda x : employer.get(x,x)\n",
    "contb['contbr_employer'] = contb['contbr_employer'].map(f)"
   ]
  },
  {
   "cell_type": "code",
   "execution_count": 36,
   "metadata": {},
   "outputs": [
    {
     "data": {
      "text/plain": [
       "contbr_employer\n",
       "RETIRED                                 41374333.67\n",
       "SELF-EMPLOYED                           37483895.22\n",
       "NOT PROVIDE                             31281997.76\n",
       "HOMEMAKER                               14738524.86\n",
       "NOT EMPLOYED                             8636809.43\n",
       "NONE                                     3809582.99\n",
       "STUDENT                                   957971.85\n",
       "REQUESTED                                 894009.54\n",
       "MORGAN STANLEY                            386129.40\n",
       "UNEMPLOYED                                377088.31\n",
       "INFORMATION REQUESTED (BEST EFFORTS)      340503.63\n",
       "CREDIT SUISSE                             300740.90\n",
       "VOLUNTEER                                 294118.02\n",
       "MICROSOFT                                 286304.32\n",
       "GOLDMAN SACH & CO.                        233250.00\n",
       "US ARMY                                   230796.52\n",
       "GOLDMAN SACHS                             205338.57\n",
       "BANK OF AMERICA                           197408.93\n",
       "IBM                                       197129.19\n",
       "SIDLEY AUSTIN LLP                         191733.70\n",
       "BARCLAYS CAPITAL                          188560.20\n",
       "WELLS FARGO                               166585.93\n",
       "CITIGROUP                                 166091.20\n",
       "MERRILL LYNCH                             163069.44\n",
       "DLA PIPER                                 158735.00\n",
       "GOOGLE                                    155917.58\n",
       "REFUSED                                   152116.07\n",
       "MICROSOFT CORPORATION                     151719.60\n",
       "HARVARD UNIVERSITY                        148870.14\n",
       "KIRKLAND & ELLIS LLP                      147762.00\n",
       "H.I.G. CAPITAL                            147000.00\n",
       "JONES DAY                                 142084.30\n",
       "AT&T                                      136291.14\n",
       "KAISER PERMANENTE                         134193.06\n",
       "J.P. MORGAN                               133448.00\n",
       "STANFORD UNIVERSITY                       130760.63\n",
       "US GOVERNMENT                             123458.38\n",
       "AETNA                                     118614.84\n",
       "VERIZON                                   118491.18\n",
       "COLUMBIA UNIVERSITY                       117830.61\n",
       "BAIN & COMPANY                            110925.00\n",
       "KIRKLAND & ELLIS L.L.P.                   104736.00\n",
       "E.M.C. CORPORATION                        104450.00\n",
       "BAIN CAPITAL                              103720.00\n",
       "CITI                                      103620.93\n",
       "FIDELITY INVESTMENTS                      103486.05\n",
       "UNIVERSITY OF MICHIGAN                     98786.49\n",
       "US NAVY                                    98741.55\n",
       "DISABLED                                   95820.52\n",
       "RYAN LLC                                   95250.00\n",
       "Name: contb_receipt_amt, dtype: float64"
      ]
     },
     "execution_count": 36,
     "metadata": {},
     "output_type": "execute_result"
    }
   ],
   "source": [
    "contb.groupby(['contbr_employer'])['contb_receipt_amt'].sum().sort_values(ascending = False)[:50]"
   ]
  },
  {
   "cell_type": "markdown",
   "metadata": {},
   "source": [
    "#### 2.3 数据筛选"
   ]
  },
  {
   "cell_type": "markdown",
   "metadata": {},
   "source": [
    "赞助金额筛选"
   ]
  },
  {
   "cell_type": "code",
   "execution_count": 37,
   "metadata": {},
   "outputs": [
    {
     "data": {
      "text/html": [
       "<div>\n",
       "<style scoped>\n",
       "    .dataframe tbody tr th:only-of-type {\n",
       "        vertical-align: middle;\n",
       "    }\n",
       "\n",
       "    .dataframe tbody tr th {\n",
       "        vertical-align: top;\n",
       "    }\n",
       "\n",
       "    .dataframe thead th {\n",
       "        text-align: right;\n",
       "    }\n",
       "</style>\n",
       "<table border=\"1\" class=\"dataframe\">\n",
       "  <thead>\n",
       "    <tr style=\"text-align: right;\">\n",
       "      <th></th>\n",
       "      <th>cand_nm</th>\n",
       "      <th>contbr_nm</th>\n",
       "      <th>contbr_st</th>\n",
       "      <th>contbr_employer</th>\n",
       "      <th>contbr_occupation</th>\n",
       "      <th>contb_receipt_amt</th>\n",
       "      <th>contb_receipt_dt</th>\n",
       "      <th>party</th>\n",
       "    </tr>\n",
       "  </thead>\n",
       "  <tbody>\n",
       "    <tr>\n",
       "      <th>0</th>\n",
       "      <td>Bachmann, Michelle</td>\n",
       "      <td>HARVEY, WILLIAM</td>\n",
       "      <td>AL</td>\n",
       "      <td>RETIRED</td>\n",
       "      <td>RETIRED</td>\n",
       "      <td>250.0</td>\n",
       "      <td>20-JUN-11</td>\n",
       "      <td>Republican</td>\n",
       "    </tr>\n",
       "    <tr>\n",
       "      <th>1</th>\n",
       "      <td>Bachmann, Michelle</td>\n",
       "      <td>HARVEY, WILLIAM</td>\n",
       "      <td>AL</td>\n",
       "      <td>RETIRED</td>\n",
       "      <td>RETIRED</td>\n",
       "      <td>50.0</td>\n",
       "      <td>23-JUN-11</td>\n",
       "      <td>Republican</td>\n",
       "    </tr>\n",
       "    <tr>\n",
       "      <th>2</th>\n",
       "      <td>Bachmann, Michelle</td>\n",
       "      <td>SMITH, LANIER</td>\n",
       "      <td>AL</td>\n",
       "      <td>NOT PROVIDE</td>\n",
       "      <td>NOT PROVIDE</td>\n",
       "      <td>250.0</td>\n",
       "      <td>05-JUL-11</td>\n",
       "      <td>Republican</td>\n",
       "    </tr>\n",
       "    <tr>\n",
       "      <th>3</th>\n",
       "      <td>Bachmann, Michelle</td>\n",
       "      <td>BLEVINS, DARONDA</td>\n",
       "      <td>AR</td>\n",
       "      <td>NONE</td>\n",
       "      <td>RETIRED</td>\n",
       "      <td>250.0</td>\n",
       "      <td>01-AUG-11</td>\n",
       "      <td>Republican</td>\n",
       "    </tr>\n",
       "    <tr>\n",
       "      <th>4</th>\n",
       "      <td>Bachmann, Michelle</td>\n",
       "      <td>WARDENBURG, HAROLD</td>\n",
       "      <td>AR</td>\n",
       "      <td>NONE</td>\n",
       "      <td>RETIRED</td>\n",
       "      <td>300.0</td>\n",
       "      <td>20-JUN-11</td>\n",
       "      <td>Republican</td>\n",
       "    </tr>\n",
       "  </tbody>\n",
       "</table>\n",
       "</div>"
      ],
      "text/plain": [
       "              cand_nm           contbr_nm contbr_st contbr_employer  \\\n",
       "0  Bachmann, Michelle     HARVEY, WILLIAM        AL         RETIRED   \n",
       "1  Bachmann, Michelle     HARVEY, WILLIAM        AL         RETIRED   \n",
       "2  Bachmann, Michelle       SMITH, LANIER        AL     NOT PROVIDE   \n",
       "3  Bachmann, Michelle    BLEVINS, DARONDA        AR            NONE   \n",
       "4  Bachmann, Michelle  WARDENBURG, HAROLD        AR            NONE   \n",
       "\n",
       "  contbr_occupation  contb_receipt_amt contb_receipt_dt       party  \n",
       "0           RETIRED              250.0        20-JUN-11  Republican  \n",
       "1           RETIRED               50.0        23-JUN-11  Republican  \n",
       "2       NOT PROVIDE              250.0        05-JUL-11  Republican  \n",
       "3           RETIRED              250.0        01-AUG-11  Republican  \n",
       "4           RETIRED              300.0        20-JUN-11  Republican  "
      ]
     },
     "execution_count": 37,
     "metadata": {},
     "output_type": "execute_result"
    }
   ],
   "source": [
    "# 捐赠金额大于0\n",
    "contb_ = contb[contb['contb_receipt_amt'] > 0]\n",
    "contb_.head()"
   ]
  },
  {
   "cell_type": "code",
   "execution_count": 38,
   "metadata": {},
   "outputs": [
    {
     "data": {
      "text/plain": [
       "(1001733, 8)"
      ]
     },
     "execution_count": 38,
     "metadata": {},
     "output_type": "execute_result"
    }
   ],
   "source": [
    "contb.shape"
   ]
  },
  {
   "cell_type": "code",
   "execution_count": 39,
   "metadata": {},
   "outputs": [
    {
     "data": {
      "text/plain": [
       "(991477, 8)"
      ]
     },
     "execution_count": 39,
     "metadata": {},
     "output_type": "execute_result"
    }
   ],
   "source": [
    "contb_.shape"
   ]
  },
  {
   "cell_type": "code",
   "execution_count": 40,
   "metadata": {
    "scrolled": true
   },
   "outputs": [],
   "source": [
    "#查看各候选人获得的赞助总金额\n",
    "cand_nm_amt = contb_.groupby(['cand_nm'])['contb_receipt_amt'].sum().sort_values(ascending = False)"
   ]
  },
  {
   "cell_type": "code",
   "execution_count": 41,
   "metadata": {
    "scrolled": true
   },
   "outputs": [
    {
     "data": {
      "text/plain": [
       "<matplotlib.axes._subplots.AxesSubplot at 0x1ec80456a30>"
      ]
     },
     "execution_count": 41,
     "metadata": {},
     "output_type": "execute_result"
    },
    {
     "data": {
      "image/png": "[encoded data removed]",
      "text/plain": [
       "<Figure size 864x864 with 1 Axes>"
      ]
     },
     "metadata": {},
     "output_type": "display_data"
    }
   ],
   "source": [
    "plt.figure(figsize=(12,12))\n",
    "cand_nm_amt.plot(kind = 'pie')"
   ]
  },
  {
   "cell_type": "code",
   "execution_count": 42,
   "metadata": {},
   "outputs": [
    {
     "data": {
      "text/plain": [
       "array(['Bachmann, Michelle', 'Romney, Mitt', 'Obama, Barack',\n",
       "       \"Roemer, Charles E. 'Buddy' III\", 'Pawlenty, Timothy',\n",
       "       'Johnson, Gary Earl', 'Paul, Ron', 'Santorum, Rick',\n",
       "       'Cain, Herman', 'Gingrich, Newt', 'McCotter, Thaddeus G',\n",
       "       'Huntsman, Jon', 'Perry, Rick'], dtype=object)"
      ]
     },
     "execution_count": 42,
     "metadata": {},
     "output_type": "execute_result"
    }
   ],
   "source": [
    "contb_.cand_nm.unique()"
   ]
  },
  {
   "cell_type": "code",
   "execution_count": 43,
   "metadata": {},
   "outputs": [
    {
     "data": {
      "text/html": [
       "<div>\n",
       "<style scoped>\n",
       "    .dataframe tbody tr th:only-of-type {\n",
       "        vertical-align: middle;\n",
       "    }\n",
       "\n",
       "    .dataframe tbody tr th {\n",
       "        vertical-align: top;\n",
       "    }\n",
       "\n",
       "    .dataframe thead th {\n",
       "        text-align: right;\n",
       "    }\n",
       "</style>\n",
       "<table border=\"1\" class=\"dataframe\">\n",
       "  <thead>\n",
       "    <tr style=\"text-align: right;\">\n",
       "      <th></th>\n",
       "      <th>cand_nm</th>\n",
       "      <th>contbr_nm</th>\n",
       "      <th>contbr_st</th>\n",
       "      <th>contbr_employer</th>\n",
       "      <th>contbr_occupation</th>\n",
       "      <th>contb_receipt_amt</th>\n",
       "      <th>contb_receipt_dt</th>\n",
       "      <th>party</th>\n",
       "    </tr>\n",
       "  </thead>\n",
       "  <tbody>\n",
       "    <tr>\n",
       "      <th>411</th>\n",
       "      <td>Romney, Mitt</td>\n",
       "      <td>ELDERBAUM, WILLIAM</td>\n",
       "      <td>AA</td>\n",
       "      <td>US GOVERNMENT</td>\n",
       "      <td>FOREIGN SERVICE OFFICER</td>\n",
       "      <td>25.0</td>\n",
       "      <td>01-FEB-12</td>\n",
       "      <td>Republican</td>\n",
       "    </tr>\n",
       "    <tr>\n",
       "      <th>412</th>\n",
       "      <td>Romney, Mitt</td>\n",
       "      <td>ELDERBAUM, WILLIAM</td>\n",
       "      <td>AA</td>\n",
       "      <td>US GOVERNMENT</td>\n",
       "      <td>FOREIGN SERVICE OFFICER</td>\n",
       "      <td>110.0</td>\n",
       "      <td>01-FEB-12</td>\n",
       "      <td>Republican</td>\n",
       "    </tr>\n",
       "    <tr>\n",
       "      <th>413</th>\n",
       "      <td>Romney, Mitt</td>\n",
       "      <td>CARLSEN, RICHARD</td>\n",
       "      <td>AE</td>\n",
       "      <td>DEFENSE INTELLIGENCE AGENCY</td>\n",
       "      <td>INTELLIGENCE ANALYST</td>\n",
       "      <td>250.0</td>\n",
       "      <td>13-APR-12</td>\n",
       "      <td>Republican</td>\n",
       "    </tr>\n",
       "    <tr>\n",
       "      <th>414</th>\n",
       "      <td>Romney, Mitt</td>\n",
       "      <td>DELUCA, PIERRE</td>\n",
       "      <td>AE</td>\n",
       "      <td>CISCO</td>\n",
       "      <td>ENGINEER</td>\n",
       "      <td>30.0</td>\n",
       "      <td>21-AUG-11</td>\n",
       "      <td>Republican</td>\n",
       "    </tr>\n",
       "    <tr>\n",
       "      <th>415</th>\n",
       "      <td>Romney, Mitt</td>\n",
       "      <td>SARGENT, MICHAEL</td>\n",
       "      <td>AE</td>\n",
       "      <td>RAYTHEON TECHNICAL SERVICES CORP</td>\n",
       "      <td>COMPUTER SYSTEMS ENGINEER</td>\n",
       "      <td>100.0</td>\n",
       "      <td>07-MAR-12</td>\n",
       "      <td>Republican</td>\n",
       "    </tr>\n",
       "    <tr>\n",
       "      <th>...</th>\n",
       "      <td>...</td>\n",
       "      <td>...</td>\n",
       "      <td>...</td>\n",
       "      <td>...</td>\n",
       "      <td>...</td>\n",
       "      <td>...</td>\n",
       "      <td>...</td>\n",
       "      <td>...</td>\n",
       "    </tr>\n",
       "    <tr>\n",
       "      <th>201381</th>\n",
       "      <td>Obama, Barack</td>\n",
       "      <td>MOUNTS, ROBERT</td>\n",
       "      <td>ZZ</td>\n",
       "      <td>HQ USFK (FKDC-SA)</td>\n",
       "      <td>GS-15 INTERNATIONAL RELATIONS OFFICER</td>\n",
       "      <td>25.0</td>\n",
       "      <td>26-FEB-12</td>\n",
       "      <td>Democrat</td>\n",
       "    </tr>\n",
       "    <tr>\n",
       "      <th>201382</th>\n",
       "      <td>Obama, Barack</td>\n",
       "      <td>TAITANO, TYRONE</td>\n",
       "      <td>ZZ</td>\n",
       "      <td>NOT EMPLOYED</td>\n",
       "      <td>RETIRED</td>\n",
       "      <td>250.0</td>\n",
       "      <td>20-JAN-12</td>\n",
       "      <td>Democrat</td>\n",
       "    </tr>\n",
       "    <tr>\n",
       "      <th>201383</th>\n",
       "      <td>Obama, Barack</td>\n",
       "      <td>TUCKER, PAMELA</td>\n",
       "      <td>ZZ</td>\n",
       "      <td>DODEA</td>\n",
       "      <td>EDUCATOR</td>\n",
       "      <td>3.0</td>\n",
       "      <td>20-JAN-12</td>\n",
       "      <td>Democrat</td>\n",
       "    </tr>\n",
       "    <tr>\n",
       "      <th>201384</th>\n",
       "      <td>Obama, Barack</td>\n",
       "      <td>MOUNTS, ROBERT</td>\n",
       "      <td>ZZ</td>\n",
       "      <td>HQ USFK (FKDC-SA)</td>\n",
       "      <td>GS-15 INTERNATIONAL RELATIONS OFFICER</td>\n",
       "      <td>25.0</td>\n",
       "      <td>26-APR-12</td>\n",
       "      <td>Democrat</td>\n",
       "    </tr>\n",
       "    <tr>\n",
       "      <th>201385</th>\n",
       "      <td>Obama, Barack</td>\n",
       "      <td>NEAL, AMBER</td>\n",
       "      <td>ZZ</td>\n",
       "      <td>THE DEPARTMENT OF DEFENSE EDUCATION AC</td>\n",
       "      <td>TEACHER</td>\n",
       "      <td>135.0</td>\n",
       "      <td>04-SEP-11</td>\n",
       "      <td>Democrat</td>\n",
       "    </tr>\n",
       "  </tbody>\n",
       "</table>\n",
       "<p>694283 rows × 8 columns</p>\n",
       "</div>"
      ],
      "text/plain": [
       "              cand_nm           contbr_nm contbr_st  \\\n",
       "411      Romney, Mitt  ELDERBAUM, WILLIAM        AA   \n",
       "412      Romney, Mitt  ELDERBAUM, WILLIAM        AA   \n",
       "413      Romney, Mitt    CARLSEN, RICHARD        AE   \n",
       "414      Romney, Mitt      DELUCA, PIERRE        AE   \n",
       "415      Romney, Mitt    SARGENT, MICHAEL        AE   \n",
       "...               ...                 ...       ...   \n",
       "201381  Obama, Barack      MOUNTS, ROBERT        ZZ   \n",
       "201382  Obama, Barack     TAITANO, TYRONE        ZZ   \n",
       "201383  Obama, Barack      TUCKER, PAMELA        ZZ   \n",
       "201384  Obama, Barack      MOUNTS, ROBERT        ZZ   \n",
       "201385  Obama, Barack         NEAL, AMBER        ZZ   \n",
       "\n",
       "                               contbr_employer  \\\n",
       "411                              US GOVERNMENT   \n",
       "412                              US GOVERNMENT   \n",
       "413                DEFENSE INTELLIGENCE AGENCY   \n",
       "414                                      CISCO   \n",
       "415           RAYTHEON TECHNICAL SERVICES CORP   \n",
       "...                                        ...   \n",
       "201381                       HQ USFK (FKDC-SA)   \n",
       "201382                            NOT EMPLOYED   \n",
       "201383                                   DODEA   \n",
       "201384                       HQ USFK (FKDC-SA)   \n",
       "201385  THE DEPARTMENT OF DEFENSE EDUCATION AC   \n",
       "\n",
       "                            contbr_occupation  contb_receipt_amt  \\\n",
       "411                   FOREIGN SERVICE OFFICER               25.0   \n",
       "412                   FOREIGN SERVICE OFFICER              110.0   \n",
       "413                      INTELLIGENCE ANALYST              250.0   \n",
       "414                                  ENGINEER               30.0   \n",
       "415                 COMPUTER SYSTEMS ENGINEER              100.0   \n",
       "...                                       ...                ...   \n",
       "201381  GS-15 INTERNATIONAL RELATIONS OFFICER               25.0   \n",
       "201382                                RETIRED              250.0   \n",
       "201383                               EDUCATOR                3.0   \n",
       "201384  GS-15 INTERNATIONAL RELATIONS OFFICER               25.0   \n",
       "201385                                TEACHER              135.0   \n",
       "\n",
       "       contb_receipt_dt       party  \n",
       "411           01-FEB-12  Republican  \n",
       "412           01-FEB-12  Republican  \n",
       "413           13-APR-12  Republican  \n",
       "414           21-AUG-11  Republican  \n",
       "415           07-MAR-12  Republican  \n",
       "...                 ...         ...  \n",
       "201381        26-FEB-12    Democrat  \n",
       "201382        20-JAN-12    Democrat  \n",
       "201383        20-JAN-12    Democrat  \n",
       "201384        26-APR-12    Democrat  \n",
       "201385        04-SEP-11    Democrat  \n",
       "\n",
       "[694283 rows x 8 columns]"
      ]
     },
     "execution_count": 43,
     "metadata": {},
     "output_type": "execute_result"
    }
   ],
   "source": [
    "#选取候选人为Obama、Romney的子集数据\n",
    "# 方式一：\n",
    "cond1 = contb_['cand_nm'] == 'Obama, Barack'\n",
    "cond2 = contb_['cand_nm'] == 'Romney, Mitt'\n",
    "\n",
    "cond = cond1|cond2\n",
    "contb_vs = contb_[cond]\n",
    "contb_vs"
   ]
  },
  {
   "cell_type": "code",
   "execution_count": 44,
   "metadata": {},
   "outputs": [],
   "source": [
    "contb_vs2 = contb_.query(\"cand_nm == 'Obama, Barack' or cand_nm == 'Romney, Mitt'\")"
   ]
  },
  {
   "cell_type": "code",
   "execution_count": 45,
   "metadata": {
    "scrolled": true
   },
   "outputs": [
    {
     "data": {
      "text/plain": [
       "(694283, 8)"
      ]
     },
     "execution_count": 45,
     "metadata": {},
     "output_type": "execute_result"
    }
   ],
   "source": [
    "contb_vs2.shape"
   ]
  },
  {
   "cell_type": "code",
   "execution_count": 46,
   "metadata": {},
   "outputs": [],
   "source": [
    "cond = contb_['cand_nm'].isin(['Romney, Mitt','Obama, Barack'])\n",
    "contb_vs3 = contb_[cond]"
   ]
  },
  {
   "cell_type": "code",
   "execution_count": 47,
   "metadata": {},
   "outputs": [
    {
     "data": {
      "text/plain": [
       "(694283, 8)"
      ]
     },
     "execution_count": 47,
     "metadata": {},
     "output_type": "execute_result"
    }
   ],
   "source": [
    "contb_vs3.shape"
   ]
  },
  {
   "cell_type": "markdown",
   "metadata": {},
   "source": [
    "#### 2.4 面元化数据"
   ]
  },
  {
   "cell_type": "markdown",
   "metadata": {},
   "source": [
    "接下来我们对该数据做另一种非常实用的分析，利用cut函数根据出资额大小将数据离散化到多个面元中"
   ]
  },
  {
   "cell_type": "code",
   "execution_count": 48,
   "metadata": {
    "scrolled": false
   },
   "outputs": [
    {
     "ename": "AttributeError",
     "evalue": "'numpy.ndarray' object has no attribute 'sort_values'",
     "output_type": "error",
     "traceback": [
      "\u001b[1;31m---------------------------------------------------------------------------\u001b[0m",
      "\u001b[1;31mAttributeError\u001b[0m                            Traceback (most recent call last)",
      "\u001b[1;32m<ipython-input-48-a9454e6f76a0>\u001b[0m in \u001b[0;36m<module>\u001b[1;34m\u001b[0m\n\u001b[1;32m----> 1\u001b[1;33m \u001b[0mcontb_\u001b[0m\u001b[1;33m.\u001b[0m\u001b[0mcontb_receipt_amt\u001b[0m\u001b[1;33m.\u001b[0m\u001b[0munique\u001b[0m\u001b[1;33m(\u001b[0m\u001b[1;33m)\u001b[0m\u001b[1;33m.\u001b[0m\u001b[0msort_values\u001b[0m\u001b[1;33m(\u001b[0m\u001b[1;33m)\u001b[0m\u001b[1;33m\u001b[0m\u001b[1;33m\u001b[0m\u001b[0m\n\u001b[0m",
      "\u001b[1;31mAttributeError\u001b[0m: 'numpy.ndarray' object has no attribute 'sort_values'"
     ]
    }
   ],
   "source": [
    "\n",
    "contb_.contb_receipt_amt.unique().sort_values()"
   ]
  },
  {
   "cell_type": "code",
   "execution_count": null,
   "metadata": {},
   "outputs": [],
   "source": [
    "contb_.contb_receipt_amt.unique().size"
   ]
  },
  {
   "cell_type": "code",
   "execution_count": null,
   "metadata": {},
   "outputs": [],
   "source": [
    "contb_.contb_receipt_amt.sort_values()"
   ]
  },
  {
   "cell_type": "code",
   "execution_count": null,
   "metadata": {},
   "outputs": [],
   "source": [
    "contb_['contb_receipt_amt'].max()"
   ]
  },
  {
   "cell_type": "code",
   "execution_count": null,
   "metadata": {},
   "outputs": [],
   "source": [
    "contb_['contb_receipt_amt'][:10]"
   ]
  },
  {
   "cell_type": "code",
   "execution_count": 91,
   "metadata": {},
   "outputs": [
    {
     "data": {
      "text/plain": [
       "0         (100, 1000]\n",
       "1           (10, 100]\n",
       "2         (100, 1000]\n",
       "3         (100, 1000]\n",
       "4         (100, 1000]\n",
       "            ...      \n",
       "1726    (1000, 10000]\n",
       "1727    (1000, 10000]\n",
       "1728      (100, 1000]\n",
       "1729      (100, 1000]\n",
       "1730    (1000, 10000]\n",
       "Name: contb_receipt_amt, Length: 991477, dtype: category\n",
       "Categories (8, interval[int64]): [(0, 1] < (1, 10] < (10, 100] < (100, 1000] < (1000, 10000] < (10000, 100000] < (100000, 1000000] < (1000000, 10000000]]"
      ]
     },
     "execution_count": 91,
     "metadata": {},
     "output_type": "execute_result"
    }
   ],
   "source": [
    "bins = [0,1,10,100,1000,10000,100000,1000000,10000000]\n",
    "\n",
    "labels = pd.cut(contb_['contb_receipt_amt'],bins)\n",
    "labels"
   ]
  },
  {
   "cell_type": "code",
   "execution_count": 92,
   "metadata": {},
   "outputs": [
    {
     "data": {
      "text/plain": [
       "(694283,)"
      ]
     },
     "execution_count": 92,
     "metadata": {},
     "output_type": "execute_result"
    }
   ],
   "source": [
    "labels = pd.cut(contb_vs['contb_receipt_amt'],bins)\n",
    "labels.shape"
   ]
  },
  {
   "cell_type": "markdown",
   "metadata": {},
   "source": [
    "### 3. 数据聚合与分组运算"
   ]
  },
  {
   "cell_type": "markdown",
   "metadata": {},
   "source": [
    "#### 3.1 透视表(pivot_table)分析党派和职业"
   ]
  },
  {
   "cell_type": "code",
   "execution_count": null,
   "metadata": {},
   "outputs": [],
   "source": [
    "contb_.columns"
   ]
  },
  {
   "cell_type": "code",
   "execution_count": 51,
   "metadata": {},
   "outputs": [
    {
     "data": {
      "text/html": [
       "<div>\n",
       "<style scoped>\n",
       "    .dataframe tbody tr th:only-of-type {\n",
       "        vertical-align: middle;\n",
       "    }\n",
       "\n",
       "    .dataframe tbody tr th {\n",
       "        vertical-align: top;\n",
       "    }\n",
       "\n",
       "    .dataframe thead th {\n",
       "        text-align: right;\n",
       "    }\n",
       "</style>\n",
       "<table border=\"1\" class=\"dataframe\">\n",
       "  <thead>\n",
       "    <tr style=\"text-align: right;\">\n",
       "      <th>party</th>\n",
       "      <th>Democrat</th>\n",
       "      <th>Republican</th>\n",
       "    </tr>\n",
       "    <tr>\n",
       "      <th>contbr_occupation</th>\n",
       "      <th></th>\n",
       "      <th></th>\n",
       "    </tr>\n",
       "  </thead>\n",
       "  <tbody>\n",
       "    <tr>\n",
       "      <th>MIXED-MEDIA ARTIST / STORYTELLER</th>\n",
       "      <td>100.0</td>\n",
       "      <td>0.0</td>\n",
       "    </tr>\n",
       "    <tr>\n",
       "      <th>AREA VICE PRESIDENT</th>\n",
       "      <td>250.0</td>\n",
       "      <td>0.0</td>\n",
       "    </tr>\n",
       "    <tr>\n",
       "      <th>RESEARCH ASSOCIATE</th>\n",
       "      <td>100.0</td>\n",
       "      <td>0.0</td>\n",
       "    </tr>\n",
       "    <tr>\n",
       "      <th>TEACHER</th>\n",
       "      <td>500.0</td>\n",
       "      <td>0.0</td>\n",
       "    </tr>\n",
       "    <tr>\n",
       "      <th>THERAPIST</th>\n",
       "      <td>3900.0</td>\n",
       "      <td>0.0</td>\n",
       "    </tr>\n",
       "    <tr>\n",
       "      <th>...</th>\n",
       "      <td>...</td>\n",
       "      <td>...</td>\n",
       "    </tr>\n",
       "    <tr>\n",
       "      <th>ZOOKEEPER</th>\n",
       "      <td>35.0</td>\n",
       "      <td>0.0</td>\n",
       "    </tr>\n",
       "    <tr>\n",
       "      <th>ZOOLOGIST</th>\n",
       "      <td>400.0</td>\n",
       "      <td>0.0</td>\n",
       "    </tr>\n",
       "    <tr>\n",
       "      <th>ZOOLOGY EDUCATION</th>\n",
       "      <td>25.0</td>\n",
       "      <td>0.0</td>\n",
       "    </tr>\n",
       "    <tr>\n",
       "      <th>\\NONE\\</th>\n",
       "      <td>0.0</td>\n",
       "      <td>250.0</td>\n",
       "    </tr>\n",
       "    <tr>\n",
       "      <th>~</th>\n",
       "      <td>0.0</td>\n",
       "      <td>75.0</td>\n",
       "    </tr>\n",
       "  </tbody>\n",
       "</table>\n",
       "<p>45063 rows × 2 columns</p>\n",
       "</div>"
      ],
      "text/plain": [
       "party                                Democrat  Republican\n",
       "contbr_occupation                                        \n",
       "   MIXED-MEDIA ARTIST / STORYTELLER     100.0         0.0\n",
       " AREA VICE PRESIDENT                    250.0         0.0\n",
       " RESEARCH ASSOCIATE                     100.0         0.0\n",
       " TEACHER                                500.0         0.0\n",
       " THERAPIST                             3900.0         0.0\n",
       "...                                       ...         ...\n",
       "ZOOKEEPER                                35.0         0.0\n",
       "ZOOLOGIST                               400.0         0.0\n",
       "ZOOLOGY EDUCATION                        25.0         0.0\n",
       "\\NONE\\                                    0.0       250.0\n",
       "~                                         0.0        75.0\n",
       "\n",
       "[45063 rows x 2 columns]"
      ]
     },
     "execution_count": 51,
     "metadata": {},
     "output_type": "execute_result"
    }
   ],
   "source": [
    "#按照党派、职业对赞助金额进行汇总，类似excel中的透视表操作，聚合函数为sum\n",
    "ret = contb_.pivot_table('contb_receipt_amt',index='contbr_occupation',columns='party',aggfunc='sum',fill_value=0)\n",
    "ret"
   ]
  },
  {
   "cell_type": "code",
   "execution_count": 52,
   "metadata": {},
   "outputs": [
    {
     "data": {
      "text/html": [
       "<div>\n",
       "<style scoped>\n",
       "    .dataframe tbody tr th:only-of-type {\n",
       "        vertical-align: middle;\n",
       "    }\n",
       "\n",
       "    .dataframe tbody tr th {\n",
       "        vertical-align: top;\n",
       "    }\n",
       "\n",
       "    .dataframe thead th {\n",
       "        text-align: right;\n",
       "    }\n",
       "</style>\n",
       "<table border=\"1\" class=\"dataframe\">\n",
       "  <thead>\n",
       "    <tr style=\"text-align: right;\">\n",
       "      <th>party</th>\n",
       "      <th>Democrat</th>\n",
       "      <th>Republican</th>\n",
       "    </tr>\n",
       "    <tr>\n",
       "      <th>contbr_occupation</th>\n",
       "      <th></th>\n",
       "      <th></th>\n",
       "    </tr>\n",
       "  </thead>\n",
       "  <tbody>\n",
       "    <tr>\n",
       "      <th>MIXED-MEDIA ARTIST / STORYTELLER</th>\n",
       "      <td>100.0</td>\n",
       "      <td>0.0</td>\n",
       "    </tr>\n",
       "    <tr>\n",
       "      <th>AREA VICE PRESIDENT</th>\n",
       "      <td>250.0</td>\n",
       "      <td>0.0</td>\n",
       "    </tr>\n",
       "    <tr>\n",
       "      <th>RESEARCH ASSOCIATE</th>\n",
       "      <td>100.0</td>\n",
       "      <td>0.0</td>\n",
       "    </tr>\n",
       "    <tr>\n",
       "      <th>TEACHER</th>\n",
       "      <td>500.0</td>\n",
       "      <td>0.0</td>\n",
       "    </tr>\n",
       "    <tr>\n",
       "      <th>THERAPIST</th>\n",
       "      <td>3900.0</td>\n",
       "      <td>0.0</td>\n",
       "    </tr>\n",
       "  </tbody>\n",
       "</table>\n",
       "</div>"
      ],
      "text/plain": [
       "party                                Democrat  Republican\n",
       "contbr_occupation                                        \n",
       "   MIXED-MEDIA ARTIST / STORYTELLER     100.0         0.0\n",
       " AREA VICE PRESIDENT                    250.0         0.0\n",
       " RESEARCH ASSOCIATE                     100.0         0.0\n",
       " TEACHER                                500.0         0.0\n",
       " THERAPIST                             3900.0         0.0"
      ]
     },
     "execution_count": 52,
     "metadata": {},
     "output_type": "execute_result"
    }
   ],
   "source": [
    "ret.head()"
   ]
  },
  {
   "cell_type": "code",
   "execution_count": 53,
   "metadata": {},
   "outputs": [
    {
     "data": {
      "text/plain": [
       "(45063, 2)"
      ]
     },
     "execution_count": 53,
     "metadata": {},
     "output_type": "execute_result"
    }
   ],
   "source": [
    "ret.shape"
   ]
  },
  {
   "cell_type": "code",
   "execution_count": 54,
   "metadata": {},
   "outputs": [],
   "source": [
    "index = Series(ret.sum(axis = 1).sort_values(ascending = False).index)"
   ]
  },
  {
   "cell_type": "code",
   "execution_count": 55,
   "metadata": {},
   "outputs": [
    {
     "data": {
      "text/plain": [
       "(45063,)"
      ]
     },
     "execution_count": 55,
     "metadata": {},
     "output_type": "execute_result"
    }
   ],
   "source": [
    "index.shape"
   ]
  },
  {
   "cell_type": "code",
   "execution_count": 56,
   "metadata": {},
   "outputs": [
    {
     "ename": "KeyError",
     "evalue": "\"None of [Index(['RETIRED', 'NOT PROVIDE', 'ATTORNEY', 'HOMEMAKER', 'PHYSICIAN',\\n       'PRESIDENT', 'EXECUTIVE', 'CONSULTANT', 'CEO', 'OWNER',\\n       ...\\n       'REMODELER & SEMI RETIRED', '3RD GENERATION FAMILY BUSINESS OWNER',\\n       'ADMINISTRATION/INSTRUCTOR', 'LEAD UI/UX DEVELOPER',\\n       'SPRINKLER FITTER FIRE PROTECTION SPECI', 'POLICY/ LAWYER',\\n       'LAN/WAN ANALYST', 'SR MGR', 'VICE PRESIDENT, REAL ESTATE',\\n       'FREELANCE VOICE-OVER'],\\n      dtype='object', name='party', length=45063)] are in the [columns]\"",
     "output_type": "error",
     "traceback": [
      "\u001b[1;31m---------------------------------------------------------------------------\u001b[0m",
      "\u001b[1;31mKeyError\u001b[0m                                  Traceback (most recent call last)",
      "\u001b[1;32m<ipython-input-56-6d01bdb2a27e>\u001b[0m in \u001b[0;36m<module>\u001b[1;34m\u001b[0m\n\u001b[1;32m----> 1\u001b[1;33m \u001b[0mret\u001b[0m\u001b[1;33m[\u001b[0m\u001b[0mindex\u001b[0m\u001b[1;33m]\u001b[0m\u001b[1;33m\u001b[0m\u001b[1;33m\u001b[0m\u001b[0m\n\u001b[0m",
      "\u001b[1;32mD:\\soft\\anaconda\\lib\\site-packages\\pandas\\core\\frame.py\u001b[0m in \u001b[0;36m__getitem__\u001b[1;34m(self, key)\u001b[0m\n\u001b[0;32m   2804\u001b[0m             \u001b[1;32mif\u001b[0m \u001b[0mis_iterator\u001b[0m\u001b[1;33m(\u001b[0m\u001b[0mkey\u001b[0m\u001b[1;33m)\u001b[0m\u001b[1;33m:\u001b[0m\u001b[1;33m\u001b[0m\u001b[1;33m\u001b[0m\u001b[0m\n\u001b[0;32m   2805\u001b[0m                 \u001b[0mkey\u001b[0m \u001b[1;33m=\u001b[0m \u001b[0mlist\u001b[0m\u001b[1;33m(\u001b[0m\u001b[0mkey\u001b[0m\u001b[1;33m)\u001b[0m\u001b[1;33m\u001b[0m\u001b[1;33m\u001b[0m\u001b[0m\n\u001b[1;32m-> 2806\u001b[1;33m             \u001b[0mindexer\u001b[0m \u001b[1;33m=\u001b[0m \u001b[0mself\u001b[0m\u001b[1;33m.\u001b[0m\u001b[0mloc\u001b[0m\u001b[1;33m.\u001b[0m\u001b[0m_get_listlike_indexer\u001b[0m\u001b[1;33m(\u001b[0m\u001b[0mkey\u001b[0m\u001b[1;33m,\u001b[0m \u001b[0maxis\u001b[0m\u001b[1;33m=\u001b[0m\u001b[1;36m1\u001b[0m\u001b[1;33m,\u001b[0m \u001b[0mraise_missing\u001b[0m\u001b[1;33m=\u001b[0m\u001b[1;32mTrue\u001b[0m\u001b[1;33m)\u001b[0m\u001b[1;33m[\u001b[0m\u001b[1;36m1\u001b[0m\u001b[1;33m]\u001b[0m\u001b[1;33m\u001b[0m\u001b[1;33m\u001b[0m\u001b[0m\n\u001b[0m\u001b[0;32m   2807\u001b[0m \u001b[1;33m\u001b[0m\u001b[0m\n\u001b[0;32m   2808\u001b[0m         \u001b[1;31m# take() does not accept boolean indexers\u001b[0m\u001b[1;33m\u001b[0m\u001b[1;33m\u001b[0m\u001b[1;33m\u001b[0m\u001b[0m\n",
      "\u001b[1;32mD:\\soft\\anaconda\\lib\\site-packages\\pandas\\core\\indexing.py\u001b[0m in \u001b[0;36m_get_listlike_indexer\u001b[1;34m(self, key, axis, raise_missing)\u001b[0m\n\u001b[0;32m   1550\u001b[0m             \u001b[0mkeyarr\u001b[0m\u001b[1;33m,\u001b[0m \u001b[0mindexer\u001b[0m\u001b[1;33m,\u001b[0m \u001b[0mnew_indexer\u001b[0m \u001b[1;33m=\u001b[0m \u001b[0max\u001b[0m\u001b[1;33m.\u001b[0m\u001b[0m_reindex_non_unique\u001b[0m\u001b[1;33m(\u001b[0m\u001b[0mkeyarr\u001b[0m\u001b[1;33m)\u001b[0m\u001b[1;33m\u001b[0m\u001b[1;33m\u001b[0m\u001b[0m\n\u001b[0;32m   1551\u001b[0m \u001b[1;33m\u001b[0m\u001b[0m\n\u001b[1;32m-> 1552\u001b[1;33m         self._validate_read_indexer(\n\u001b[0m\u001b[0;32m   1553\u001b[0m             \u001b[0mkeyarr\u001b[0m\u001b[1;33m,\u001b[0m \u001b[0mindexer\u001b[0m\u001b[1;33m,\u001b[0m \u001b[0mo\u001b[0m\u001b[1;33m.\u001b[0m\u001b[0m_get_axis_number\u001b[0m\u001b[1;33m(\u001b[0m\u001b[0maxis\u001b[0m\u001b[1;33m)\u001b[0m\u001b[1;33m,\u001b[0m \u001b[0mraise_missing\u001b[0m\u001b[1;33m=\u001b[0m\u001b[0mraise_missing\u001b[0m\u001b[1;33m\u001b[0m\u001b[1;33m\u001b[0m\u001b[0m\n\u001b[0;32m   1554\u001b[0m         )\n",
      "\u001b[1;32mD:\\soft\\anaconda\\lib\\site-packages\\pandas\\core\\indexing.py\u001b[0m in \u001b[0;36m_validate_read_indexer\u001b[1;34m(self, key, indexer, axis, raise_missing)\u001b[0m\n\u001b[0;32m   1638\u001b[0m             \u001b[1;32mif\u001b[0m \u001b[0mmissing\u001b[0m \u001b[1;33m==\u001b[0m \u001b[0mlen\u001b[0m\u001b[1;33m(\u001b[0m\u001b[0mindexer\u001b[0m\u001b[1;33m)\u001b[0m\u001b[1;33m:\u001b[0m\u001b[1;33m\u001b[0m\u001b[1;33m\u001b[0m\u001b[0m\n\u001b[0;32m   1639\u001b[0m                 \u001b[0maxis_name\u001b[0m \u001b[1;33m=\u001b[0m \u001b[0mself\u001b[0m\u001b[1;33m.\u001b[0m\u001b[0mobj\u001b[0m\u001b[1;33m.\u001b[0m\u001b[0m_get_axis_name\u001b[0m\u001b[1;33m(\u001b[0m\u001b[0maxis\u001b[0m\u001b[1;33m)\u001b[0m\u001b[1;33m\u001b[0m\u001b[1;33m\u001b[0m\u001b[0m\n\u001b[1;32m-> 1640\u001b[1;33m                 \u001b[1;32mraise\u001b[0m \u001b[0mKeyError\u001b[0m\u001b[1;33m(\u001b[0m\u001b[1;34mf\"None of [{key}] are in the [{axis_name}]\"\u001b[0m\u001b[1;33m)\u001b[0m\u001b[1;33m\u001b[0m\u001b[1;33m\u001b[0m\u001b[0m\n\u001b[0m\u001b[0;32m   1641\u001b[0m \u001b[1;33m\u001b[0m\u001b[0m\n\u001b[0;32m   1642\u001b[0m             \u001b[1;31m# We (temporarily) allow for some missing keys with .loc, except in\u001b[0m\u001b[1;33m\u001b[0m\u001b[1;33m\u001b[0m\u001b[1;33m\u001b[0m\u001b[0m\n",
      "\u001b[1;31mKeyError\u001b[0m: \"None of [Index(['RETIRED', 'NOT PROVIDE', 'ATTORNEY', 'HOMEMAKER', 'PHYSICIAN',\\n       'PRESIDENT', 'EXECUTIVE', 'CONSULTANT', 'CEO', 'OWNER',\\n       ...\\n       'REMODELER & SEMI RETIRED', '3RD GENERATION FAMILY BUSINESS OWNER',\\n       'ADMINISTRATION/INSTRUCTOR', 'LEAD UI/UX DEVELOPER',\\n       'SPRINKLER FITTER FIRE PROTECTION SPECI', 'POLICY/ LAWYER',\\n       'LAN/WAN ANALYST', 'SR MGR', 'VICE PRESIDENT, REAL ESTATE',\\n       'FREELANCE VOICE-OVER'],\\n      dtype='object', name='party', length=45063)] are in the [columns]\""
     ]
    }
   ],
   "source": [
    "ret[index]"
   ]
  },
  {
   "cell_type": "code",
   "execution_count": 57,
   "metadata": {},
   "outputs": [
    {
     "data": {
      "text/plain": [
       "contbr_occupation\n",
       "RETIRED           4.886656e+07\n",
       "NOT PROVIDE       3.469680e+07\n",
       "ATTORNEY          2.217088e+07\n",
       "HOMEMAKER         1.788315e+07\n",
       "PHYSICIAN         7.329445e+06\n",
       "PRESIDENT         6.599434e+06\n",
       "EXECUTIVE         5.494011e+06\n",
       "CONSULTANT        5.004638e+06\n",
       "CEO               3.715043e+06\n",
       "OWNER             3.409854e+06\n",
       "INVESTOR          3.315902e+06\n",
       "ENGINEER          2.769899e+06\n",
       "SELF-EMPLOYED     2.682894e+06\n",
       "C.E.O.            2.594673e+06\n",
       "PROFESSOR         2.461774e+06\n",
       "MANAGER           2.207416e+06\n",
       "REAL ESTATE       2.154804e+06\n",
       "SALES             1.848352e+06\n",
       "CHAIRMAN          1.792640e+06\n",
       "BUSINESS OWNER    1.773322e+06\n",
       "dtype: float64"
      ]
     },
     "execution_count": 57,
     "metadata": {},
     "output_type": "execute_result"
    }
   ],
   "source": [
    "ret.sum(axis = 1).sort_values(ascending = False)[:20]"
   ]
  },
  {
   "cell_type": "code",
   "execution_count": 58,
   "metadata": {},
   "outputs": [],
   "source": [
    "ret['total'] = ret['Democrat'] + ret['Republican']"
   ]
  },
  {
   "cell_type": "code",
   "execution_count": 59,
   "metadata": {
    "scrolled": true
   },
   "outputs": [
    {
     "data": {
      "text/html": [
       "<div>\n",
       "<style scoped>\n",
       "    .dataframe tbody tr th:only-of-type {\n",
       "        vertical-align: middle;\n",
       "    }\n",
       "\n",
       "    .dataframe tbody tr th {\n",
       "        vertical-align: top;\n",
       "    }\n",
       "\n",
       "    .dataframe thead th {\n",
       "        text-align: right;\n",
       "    }\n",
       "</style>\n",
       "<table border=\"1\" class=\"dataframe\">\n",
       "  <thead>\n",
       "    <tr style=\"text-align: right;\">\n",
       "      <th>party</th>\n",
       "      <th>Democrat</th>\n",
       "      <th>Republican</th>\n",
       "      <th>total</th>\n",
       "    </tr>\n",
       "    <tr>\n",
       "      <th>contbr_occupation</th>\n",
       "      <th></th>\n",
       "      <th></th>\n",
       "      <th></th>\n",
       "    </tr>\n",
       "  </thead>\n",
       "  <tbody>\n",
       "    <tr>\n",
       "      <th>MIXED-MEDIA ARTIST / STORYTELLER</th>\n",
       "      <td>100.0</td>\n",
       "      <td>0.0</td>\n",
       "      <td>100.0</td>\n",
       "    </tr>\n",
       "    <tr>\n",
       "      <th>AREA VICE PRESIDENT</th>\n",
       "      <td>250.0</td>\n",
       "      <td>0.0</td>\n",
       "      <td>250.0</td>\n",
       "    </tr>\n",
       "    <tr>\n",
       "      <th>RESEARCH ASSOCIATE</th>\n",
       "      <td>100.0</td>\n",
       "      <td>0.0</td>\n",
       "      <td>100.0</td>\n",
       "    </tr>\n",
       "    <tr>\n",
       "      <th>TEACHER</th>\n",
       "      <td>500.0</td>\n",
       "      <td>0.0</td>\n",
       "      <td>500.0</td>\n",
       "    </tr>\n",
       "    <tr>\n",
       "      <th>THERAPIST</th>\n",
       "      <td>3900.0</td>\n",
       "      <td>0.0</td>\n",
       "      <td>3900.0</td>\n",
       "    </tr>\n",
       "  </tbody>\n",
       "</table>\n",
       "</div>"
      ],
      "text/plain": [
       "party                                Democrat  Republican   total\n",
       "contbr_occupation                                                \n",
       "   MIXED-MEDIA ARTIST / STORYTELLER     100.0         0.0   100.0\n",
       " AREA VICE PRESIDENT                    250.0         0.0   250.0\n",
       " RESEARCH ASSOCIATE                     100.0         0.0   100.0\n",
       " TEACHER                                500.0         0.0   500.0\n",
       " THERAPIST                             3900.0         0.0  3900.0"
      ]
     },
     "execution_count": 59,
     "metadata": {},
     "output_type": "execute_result"
    }
   ],
   "source": [
    "ret.head()"
   ]
  },
  {
   "cell_type": "code",
   "execution_count": 60,
   "metadata": {},
   "outputs": [
    {
     "data": {
      "text/html": [
       "<div>\n",
       "<style scoped>\n",
       "    .dataframe tbody tr th:only-of-type {\n",
       "        vertical-align: middle;\n",
       "    }\n",
       "\n",
       "    .dataframe tbody tr th {\n",
       "        vertical-align: top;\n",
       "    }\n",
       "\n",
       "    .dataframe thead th {\n",
       "        text-align: right;\n",
       "    }\n",
       "</style>\n",
       "<table border=\"1\" class=\"dataframe\">\n",
       "  <thead>\n",
       "    <tr style=\"text-align: right;\">\n",
       "      <th>party</th>\n",
       "      <th>Democrat</th>\n",
       "      <th>Republican</th>\n",
       "      <th>total</th>\n",
       "    </tr>\n",
       "    <tr>\n",
       "      <th>contbr_occupation</th>\n",
       "      <th></th>\n",
       "      <th></th>\n",
       "      <th></th>\n",
       "    </tr>\n",
       "  </thead>\n",
       "  <tbody>\n",
       "    <tr>\n",
       "      <th>RETIRED</th>\n",
       "      <td>25305316.38</td>\n",
       "      <td>2.356124e+07</td>\n",
       "      <td>4.886656e+07</td>\n",
       "    </tr>\n",
       "    <tr>\n",
       "      <th>NOT PROVIDE</th>\n",
       "      <td>13725187.32</td>\n",
       "      <td>2.097161e+07</td>\n",
       "      <td>3.469680e+07</td>\n",
       "    </tr>\n",
       "    <tr>\n",
       "      <th>ATTORNEY</th>\n",
       "      <td>14302461.84</td>\n",
       "      <td>7.868419e+06</td>\n",
       "      <td>2.217088e+07</td>\n",
       "    </tr>\n",
       "    <tr>\n",
       "      <th>HOMEMAKER</th>\n",
       "      <td>4248875.80</td>\n",
       "      <td>1.363428e+07</td>\n",
       "      <td>1.788315e+07</td>\n",
       "    </tr>\n",
       "    <tr>\n",
       "      <th>PHYSICIAN</th>\n",
       "      <td>3735124.94</td>\n",
       "      <td>3.594320e+06</td>\n",
       "      <td>7.329445e+06</td>\n",
       "    </tr>\n",
       "    <tr>\n",
       "      <th>...</th>\n",
       "      <td>...</td>\n",
       "      <td>...</td>\n",
       "      <td>...</td>\n",
       "    </tr>\n",
       "    <tr>\n",
       "      <th>POLICY/ LAWYER</th>\n",
       "      <td>3.00</td>\n",
       "      <td>0.000000e+00</td>\n",
       "      <td>3.000000e+00</td>\n",
       "    </tr>\n",
       "    <tr>\n",
       "      <th>AFFORDABLE REAL ESTATE DEVELOPER</th>\n",
       "      <td>0.00</td>\n",
       "      <td>3.000000e+00</td>\n",
       "      <td>3.000000e+00</td>\n",
       "    </tr>\n",
       "    <tr>\n",
       "      <th>ADMINISTRATION/INSTRUCTOR</th>\n",
       "      <td>3.00</td>\n",
       "      <td>0.000000e+00</td>\n",
       "      <td>3.000000e+00</td>\n",
       "    </tr>\n",
       "    <tr>\n",
       "      <th>VICE PRESIDENT, REAL ESTATE</th>\n",
       "      <td>0.00</td>\n",
       "      <td>1.000000e+00</td>\n",
       "      <td>1.000000e+00</td>\n",
       "    </tr>\n",
       "    <tr>\n",
       "      <th>FREELANCE VOICE-OVER</th>\n",
       "      <td>0.00</td>\n",
       "      <td>1.000000e+00</td>\n",
       "      <td>1.000000e+00</td>\n",
       "    </tr>\n",
       "  </tbody>\n",
       "</table>\n",
       "<p>45063 rows × 3 columns</p>\n",
       "</div>"
      ],
      "text/plain": [
       "party                                Democrat    Republican         total\n",
       "contbr_occupation                                                        \n",
       "RETIRED                           25305316.38  2.356124e+07  4.886656e+07\n",
       "NOT PROVIDE                       13725187.32  2.097161e+07  3.469680e+07\n",
       "ATTORNEY                          14302461.84  7.868419e+06  2.217088e+07\n",
       "HOMEMAKER                          4248875.80  1.363428e+07  1.788315e+07\n",
       "PHYSICIAN                          3735124.94  3.594320e+06  7.329445e+06\n",
       "...                                       ...           ...           ...\n",
       "POLICY/ LAWYER                           3.00  0.000000e+00  3.000000e+00\n",
       "AFFORDABLE REAL ESTATE DEVELOPER         0.00  3.000000e+00  3.000000e+00\n",
       "ADMINISTRATION/INSTRUCTOR                3.00  0.000000e+00  3.000000e+00\n",
       "VICE PRESIDENT, REAL ESTATE              0.00  1.000000e+00  1.000000e+00\n",
       "FREELANCE VOICE-OVER                     0.00  1.000000e+00  1.000000e+00\n",
       "\n",
       "[45063 rows x 3 columns]"
      ]
     },
     "execution_count": 60,
     "metadata": {},
     "output_type": "execute_result"
    }
   ],
   "source": [
    "ret.sort_values(by = 'total',ascending=False)"
   ]
  },
  {
   "cell_type": "code",
   "execution_count": null,
   "metadata": {},
   "outputs": [],
   "source": []
  },
  {
   "cell_type": "code",
   "execution_count": 61,
   "metadata": {},
   "outputs": [],
   "source": [
    "#过滤掉赞助金额小于200W的数据\n",
    "\n",
    "cond = ret['total'] < 2000000\n",
    "\n",
    "index = ret[cond].index\n",
    "\n",
    "ret_big = ret.drop(labels=index)"
   ]
  },
  {
   "cell_type": "code",
   "execution_count": 62,
   "metadata": {},
   "outputs": [
    {
     "data": {
      "text/plain": [
       "(17, 3)"
      ]
     },
     "execution_count": 62,
     "metadata": {},
     "output_type": "execute_result"
    }
   ],
   "source": [
    "# 绘制献金前20数据\n",
    "ret_big.shape"
   ]
  },
  {
   "cell_type": "code",
   "execution_count": 63,
   "metadata": {},
   "outputs": [
    {
     "data": {
      "text/html": [
       "<div>\n",
       "<style scoped>\n",
       "    .dataframe tbody tr th:only-of-type {\n",
       "        vertical-align: middle;\n",
       "    }\n",
       "\n",
       "    .dataframe tbody tr th {\n",
       "        vertical-align: top;\n",
       "    }\n",
       "\n",
       "    .dataframe thead th {\n",
       "        text-align: right;\n",
       "    }\n",
       "</style>\n",
       "<table border=\"1\" class=\"dataframe\">\n",
       "  <thead>\n",
       "    <tr style=\"text-align: right;\">\n",
       "      <th>party</th>\n",
       "      <th>Democrat</th>\n",
       "      <th>Republican</th>\n",
       "      <th>total</th>\n",
       "    </tr>\n",
       "    <tr>\n",
       "      <th>contbr_occupation</th>\n",
       "      <th></th>\n",
       "      <th></th>\n",
       "      <th></th>\n",
       "    </tr>\n",
       "  </thead>\n",
       "  <tbody>\n",
       "    <tr>\n",
       "      <th>ATTORNEY</th>\n",
       "      <td>14302461.84</td>\n",
       "      <td>7.868419e+06</td>\n",
       "      <td>2.217088e+07</td>\n",
       "    </tr>\n",
       "    <tr>\n",
       "      <th>C.E.O.</th>\n",
       "      <td>1690.00</td>\n",
       "      <td>2.592983e+06</td>\n",
       "      <td>2.594673e+06</td>\n",
       "    </tr>\n",
       "    <tr>\n",
       "      <th>CEO</th>\n",
       "      <td>2074284.79</td>\n",
       "      <td>1.640758e+06</td>\n",
       "      <td>3.715043e+06</td>\n",
       "    </tr>\n",
       "    <tr>\n",
       "      <th>CONSULTANT</th>\n",
       "      <td>2459912.71</td>\n",
       "      <td>2.544725e+06</td>\n",
       "      <td>5.004638e+06</td>\n",
       "    </tr>\n",
       "    <tr>\n",
       "      <th>ENGINEER</th>\n",
       "      <td>951525.55</td>\n",
       "      <td>1.818374e+06</td>\n",
       "      <td>2.769899e+06</td>\n",
       "    </tr>\n",
       "    <tr>\n",
       "      <th>EXECUTIVE</th>\n",
       "      <td>1355161.05</td>\n",
       "      <td>4.138850e+06</td>\n",
       "      <td>5.494011e+06</td>\n",
       "    </tr>\n",
       "    <tr>\n",
       "      <th>HOMEMAKER</th>\n",
       "      <td>4248875.80</td>\n",
       "      <td>1.363428e+07</td>\n",
       "      <td>1.788315e+07</td>\n",
       "    </tr>\n",
       "    <tr>\n",
       "      <th>INVESTOR</th>\n",
       "      <td>884133.00</td>\n",
       "      <td>2.431769e+06</td>\n",
       "      <td>3.315902e+06</td>\n",
       "    </tr>\n",
       "    <tr>\n",
       "      <th>MANAGER</th>\n",
       "      <td>762883.22</td>\n",
       "      <td>1.444532e+06</td>\n",
       "      <td>2.207416e+06</td>\n",
       "    </tr>\n",
       "    <tr>\n",
       "      <th>NOT PROVIDE</th>\n",
       "      <td>13725187.32</td>\n",
       "      <td>2.097161e+07</td>\n",
       "      <td>3.469680e+07</td>\n",
       "    </tr>\n",
       "    <tr>\n",
       "      <th>OWNER</th>\n",
       "      <td>1001567.36</td>\n",
       "      <td>2.408287e+06</td>\n",
       "      <td>3.409854e+06</td>\n",
       "    </tr>\n",
       "    <tr>\n",
       "      <th>PHYSICIAN</th>\n",
       "      <td>3735124.94</td>\n",
       "      <td>3.594320e+06</td>\n",
       "      <td>7.329445e+06</td>\n",
       "    </tr>\n",
       "    <tr>\n",
       "      <th>PRESIDENT</th>\n",
       "      <td>1878509.95</td>\n",
       "      <td>4.720924e+06</td>\n",
       "      <td>6.599434e+06</td>\n",
       "    </tr>\n",
       "    <tr>\n",
       "      <th>PROFESSOR</th>\n",
       "      <td>2165071.08</td>\n",
       "      <td>2.967027e+05</td>\n",
       "      <td>2.461774e+06</td>\n",
       "    </tr>\n",
       "    <tr>\n",
       "      <th>REAL ESTATE</th>\n",
       "      <td>528902.09</td>\n",
       "      <td>1.625902e+06</td>\n",
       "      <td>2.154804e+06</td>\n",
       "    </tr>\n",
       "    <tr>\n",
       "      <th>RETIRED</th>\n",
       "      <td>25305316.38</td>\n",
       "      <td>2.356124e+07</td>\n",
       "      <td>4.886656e+07</td>\n",
       "    </tr>\n",
       "    <tr>\n",
       "      <th>SELF-EMPLOYED</th>\n",
       "      <td>721108.40</td>\n",
       "      <td>1.961786e+06</td>\n",
       "      <td>2.682894e+06</td>\n",
       "    </tr>\n",
       "  </tbody>\n",
       "</table>\n",
       "</div>"
      ],
      "text/plain": [
       "party                 Democrat    Republican         total\n",
       "contbr_occupation                                         \n",
       "ATTORNEY           14302461.84  7.868419e+06  2.217088e+07\n",
       "C.E.O.                 1690.00  2.592983e+06  2.594673e+06\n",
       "CEO                 2074284.79  1.640758e+06  3.715043e+06\n",
       "CONSULTANT          2459912.71  2.544725e+06  5.004638e+06\n",
       "ENGINEER             951525.55  1.818374e+06  2.769899e+06\n",
       "EXECUTIVE           1355161.05  4.138850e+06  5.494011e+06\n",
       "HOMEMAKER           4248875.80  1.363428e+07  1.788315e+07\n",
       "INVESTOR             884133.00  2.431769e+06  3.315902e+06\n",
       "MANAGER              762883.22  1.444532e+06  2.207416e+06\n",
       "NOT PROVIDE        13725187.32  2.097161e+07  3.469680e+07\n",
       "OWNER               1001567.36  2.408287e+06  3.409854e+06\n",
       "PHYSICIAN           3735124.94  3.594320e+06  7.329445e+06\n",
       "PRESIDENT           1878509.95  4.720924e+06  6.599434e+06\n",
       "PROFESSOR           2165071.08  2.967027e+05  2.461774e+06\n",
       "REAL ESTATE          528902.09  1.625902e+06  2.154804e+06\n",
       "RETIRED            25305316.38  2.356124e+07  4.886656e+07\n",
       "SELF-EMPLOYED        721108.40  1.961786e+06  2.682894e+06"
      ]
     },
     "execution_count": 63,
     "metadata": {},
     "output_type": "execute_result"
    }
   ],
   "source": [
    "ret_big"
   ]
  },
  {
   "cell_type": "code",
   "execution_count": null,
   "metadata": {},
   "outputs": [],
   "source": []
  },
  {
   "cell_type": "code",
   "execution_count": 64,
   "metadata": {},
   "outputs": [
    {
     "data": {
      "text/plain": [
       "<matplotlib.axes._subplots.AxesSubplot at 0x1ec8231d9a0>"
      ]
     },
     "execution_count": 64,
     "metadata": {},
     "output_type": "execute_result"
    },
    {
     "data": {
      "image/png": "[encoded data removed]",
      "text/plain": [
       "<Figure size 864x648 with 1 Axes>"
      ]
     },
     "metadata": {
      "needs_background": "light"
     },
     "output_type": "display_data"
    }
   ],
   "source": [
    "plt.figure(figsize=(12,9))\n",
    "ax = plt.subplot(1,1,1)\n",
    "ret_big.plot(kind = 'bar',ax = ax)"
   ]
  },
  {
   "cell_type": "markdown",
   "metadata": {},
   "source": [
    "#### 3.2 分组级运算和转换"
   ]
  },
  {
   "cell_type": "markdown",
   "metadata": {},
   "source": [
    "根据职业与雇主信息分组运算"
   ]
  },
  {
   "cell_type": "code",
   "execution_count": 66,
   "metadata": {},
   "outputs": [
    {
     "data": {
      "text/plain": [
       "Index(['cand_nm', 'contbr_nm', 'contbr_st', 'contbr_employer',\n",
       "       'contbr_occupation', 'contb_receipt_amt', 'contb_receipt_dt', 'party'],\n",
       "      dtype='object')"
      ]
     },
     "execution_count": 66,
     "metadata": {},
     "output_type": "execute_result"
    }
   ],
   "source": [
    "contb_.columns"
   ]
  },
  {
   "cell_type": "code",
   "execution_count": 78,
   "metadata": {},
   "outputs": [],
   "source": [
    "grouped = contb_.groupby('cand_nm')"
   ]
  },
  {
   "cell_type": "code",
   "execution_count": 79,
   "metadata": {},
   "outputs": [
    {
     "data": {
      "text/plain": [
       "<pandas.core.groupby.generic.DataFrameGroupBy object at 0x000001EC9AB6A940>"
      ]
     },
     "execution_count": 79,
     "metadata": {},
     "output_type": "execute_result"
    }
   ],
   "source": [
    "grouped"
   ]
  },
  {
   "cell_type": "code",
   "execution_count": 82,
   "metadata": {},
   "outputs": [
    {
     "data": {
      "text/plain": [
       "cand_nm             contbr_occupation                   \n",
       "Bachmann, Michelle  RETIRED                                  854785.17\n",
       "                    NOT PROVIDE                              167705.00\n",
       "                    HOMEMAKER                                105622.00\n",
       "                    PHYSICIAN                                 77319.00\n",
       "                    PRESIDENT                                 68831.00\n",
       "                                                               ...    \n",
       "Santorum, Rick      RETIRED                                 2160834.65\n",
       "                    HOMEMAKER                               1033342.67\n",
       "                    NOT PROVIDE                              968723.54\n",
       "                    INFORMATION REQUESTED (BEST EFFORTS)     328323.63\n",
       "                    PHYSICIAN                                314755.19\n",
       "Name: contb_receipt_amt, Length: 65, dtype: float64"
      ]
     },
     "execution_count": 82,
     "metadata": {},
     "output_type": "execute_result"
    }
   ],
   "source": [
    "# grouped.groupby['contbr_occupation']['contb_receipt_amt'].sum().sort_values(ascending = False)[:5]\n",
    "def my_fun(x,key,n):\n",
    "    return x.groupby(key)['contb_receipt_amt'].sum().sort_values(ascending=False)[:n]\n",
    "grouped.apply(my_fun,'contbr_occupation',5)"
   ]
  },
  {
   "cell_type": "code",
   "execution_count": 83,
   "metadata": {},
   "outputs": [
    {
     "data": {
      "text/plain": [
       "cand_nm             contbr_occupation                   \n",
       "Bachmann, Michelle  RETIRED                                 854785.17\n",
       "                    NOT PROVIDE                             167705.00\n",
       "                    HOMEMAKER                               105622.00\n",
       "                    PHYSICIAN                                77319.00\n",
       "                    PRESIDENT                                68831.00\n",
       "                                                              ...    \n",
       "Santorum, Rick      NOT PROVIDE                             968723.54\n",
       "                    INFORMATION REQUESTED (BEST EFFORTS)    328323.63\n",
       "                    PHYSICIAN                               314755.19\n",
       "                    ATTORNEY                                293465.58\n",
       "                    EXECUTIVE                               254517.55\n",
       "Name: contb_receipt_amt, Length: 91, dtype: float64"
      ]
     },
     "execution_count": 83,
     "metadata": {},
     "output_type": "execute_result"
    }
   ],
   "source": [
    "#由于职业和雇主的处理非常相似，我们定义函数get_top_amounts()对两个字段进行分析处理\n",
    "\n",
    "def get_top_amounts(grouped,key,n):\n",
    "#     !!!先分组，grouped，然后继续再分\n",
    "    return grouped.groupby(key)['contb_receipt_amt'].sum().sort_values(ascending = False)[:n]\n",
    "\n",
    "grouped = contb_.groupby('cand_nm')\n",
    "\n",
    "\n",
    "grouped.apply(get_top_amounts,'contbr_occupation',7)"
   ]
  },
  {
   "cell_type": "code",
   "execution_count": 86,
   "metadata": {},
   "outputs": [
    {
     "data": {
      "text/html": [
       "<div>\n",
       "<style scoped>\n",
       "    .dataframe tbody tr th:only-of-type {\n",
       "        vertical-align: middle;\n",
       "    }\n",
       "\n",
       "    .dataframe tbody tr th {\n",
       "        vertical-align: top;\n",
       "    }\n",
       "\n",
       "    .dataframe thead th {\n",
       "        text-align: right;\n",
       "    }\n",
       "</style>\n",
       "<table border=\"1\" class=\"dataframe\">\n",
       "  <thead>\n",
       "    <tr style=\"text-align: right;\">\n",
       "      <th>cand_nm</th>\n",
       "      <th>Obama, Barack</th>\n",
       "      <th>Romney, Mitt</th>\n",
       "    </tr>\n",
       "    <tr>\n",
       "      <th>contbr_occupation</th>\n",
       "      <th></th>\n",
       "      <th></th>\n",
       "    </tr>\n",
       "  </thead>\n",
       "  <tbody>\n",
       "    <tr>\n",
       "      <th>ATTORNEY</th>\n",
       "      <td>14302461.84</td>\n",
       "      <td>5372424.02</td>\n",
       "    </tr>\n",
       "    <tr>\n",
       "      <th>C.E.O.</th>\n",
       "      <td>NaN</td>\n",
       "      <td>1968386.11</td>\n",
       "    </tr>\n",
       "    <tr>\n",
       "      <th>CONSULTANT</th>\n",
       "      <td>2459912.71</td>\n",
       "      <td>NaN</td>\n",
       "    </tr>\n",
       "    <tr>\n",
       "      <th>EXECUTIVE</th>\n",
       "      <td>NaN</td>\n",
       "      <td>2300947.03</td>\n",
       "    </tr>\n",
       "    <tr>\n",
       "      <th>HOMEMAKER</th>\n",
       "      <td>4248875.80</td>\n",
       "      <td>8147446.22</td>\n",
       "    </tr>\n",
       "    <tr>\n",
       "      <th>NOT PROVIDE</th>\n",
       "      <td>13725187.32</td>\n",
       "      <td>11638509.84</td>\n",
       "    </tr>\n",
       "    <tr>\n",
       "      <th>PHYSICIAN</th>\n",
       "      <td>3735124.94</td>\n",
       "      <td>NaN</td>\n",
       "    </tr>\n",
       "    <tr>\n",
       "      <th>PRESIDENT</th>\n",
       "      <td>NaN</td>\n",
       "      <td>2491244.89</td>\n",
       "    </tr>\n",
       "    <tr>\n",
       "      <th>PROFESSOR</th>\n",
       "      <td>2165071.08</td>\n",
       "      <td>NaN</td>\n",
       "    </tr>\n",
       "    <tr>\n",
       "      <th>RETIRED</th>\n",
       "      <td>25305316.38</td>\n",
       "      <td>11508473.59</td>\n",
       "    </tr>\n",
       "  </tbody>\n",
       "</table>\n",
       "</div>"
      ],
      "text/plain": [
       "cand_nm            Obama, Barack  Romney, Mitt\n",
       "contbr_occupation                             \n",
       "ATTORNEY             14302461.84    5372424.02\n",
       "C.E.O.                       NaN    1968386.11\n",
       "CONSULTANT            2459912.71           NaN\n",
       "EXECUTIVE                    NaN    2300947.03\n",
       "HOMEMAKER             4248875.80    8147446.22\n",
       "NOT PROVIDE          13725187.32   11638509.84\n",
       "PHYSICIAN             3735124.94           NaN\n",
       "PRESIDENT                    NaN    2491244.89\n",
       "PROFESSOR             2165071.08           NaN\n",
       "RETIRED              25305316.38   11508473.59"
      ]
     },
     "execution_count": 86,
     "metadata": {},
     "output_type": "execute_result"
    }
   ],
   "source": [
    "grouped = contb_vs.groupby('cand_nm')\n",
    "\n",
    "grouped.apply(get_top_amounts,'contbr_occupation',7).unstack(level=0)"
   ]
  },
  {
   "cell_type": "code",
   "execution_count": 87,
   "metadata": {
    "collapsed": true
   },
   "outputs": [
    {
     "name": "stdout",
     "output_type": "stream",
     "text": [
      "('Obama, Barack',               cand_nm            contbr_nm contbr_st  \\\n",
      "107640  Obama, Barack        BARNARD, ERIC        AA   \n",
      "107641  Obama, Barack       HESTER, COREEN        AA   \n",
      "107642  Obama, Barack  ST. HILAIRE, PIERRE        AA   \n",
      "107643  Obama, Barack  BRIDGEWATER, PAMELA        AA   \n",
      "107647  Obama, Barack        BARNARD, ERIC        AA   \n",
      "...               ...                  ...       ...   \n",
      "201381  Obama, Barack       MOUNTS, ROBERT        ZZ   \n",
      "201382  Obama, Barack      TAITANO, TYRONE        ZZ   \n",
      "201383  Obama, Barack       TUCKER, PAMELA        ZZ   \n",
      "201384  Obama, Barack       MOUNTS, ROBERT        ZZ   \n",
      "201385  Obama, Barack          NEAL, AMBER        ZZ   \n",
      "\n",
      "                               contbr_employer  \\\n",
      "107640                          U.S. AIR FORCE   \n",
      "107641           THE AMERICAN SCHOOL IN LONDON   \n",
      "107642                US DEPARTMENT OF JUSTICE   \n",
      "107643                          DEPT. OF STATE   \n",
      "107647                          U.S. AIR FORCE   \n",
      "...                                        ...   \n",
      "201381                       HQ USFK (FKDC-SA)   \n",
      "201382                            NOT EMPLOYED   \n",
      "201383                                   DODEA   \n",
      "201384                       HQ USFK (FKDC-SA)   \n",
      "201385  THE DEPARTMENT OF DEFENSE EDUCATION AC   \n",
      "\n",
      "                            contbr_occupation  contb_receipt_amt  \\\n",
      "107640                        MILITARY POLICE              100.0   \n",
      "107641                               EDUCATOR              500.0   \n",
      "107642                               ATTORNEY              300.0   \n",
      "107643                               DIPLOMAT              500.0   \n",
      "107647                        MILITARY POLICE               50.0   \n",
      "...                                       ...                ...   \n",
      "201381  GS-15 INTERNATIONAL RELATIONS OFFICER               25.0   \n",
      "201382                                RETIRED              250.0   \n",
      "201383                               EDUCATOR                3.0   \n",
      "201384  GS-15 INTERNATIONAL RELATIONS OFFICER               25.0   \n",
      "201385                                TEACHER              135.0   \n",
      "\n",
      "       contb_receipt_dt     party  \n",
      "107640        30-SEP-11  Democrat  \n",
      "107641        30-DEC-11  Democrat  \n",
      "107642        30-SEP-11  Democrat  \n",
      "107643        30-SEP-11  Democrat  \n",
      "107647        30-SEP-11  Democrat  \n",
      "...                 ...       ...  \n",
      "201381        26-FEB-12  Democrat  \n",
      "201382        20-JAN-12  Democrat  \n",
      "201383        20-JAN-12  Democrat  \n",
      "201384        26-APR-12  Democrat  \n",
      "201385        04-SEP-11  Democrat  \n",
      "\n",
      "[589128 rows x 8 columns])\n",
      "('Romney, Mitt',              cand_nm                  contbr_nm contbr_st  \\\n",
      "411     Romney, Mitt         ELDERBAUM, WILLIAM        AA   \n",
      "412     Romney, Mitt         ELDERBAUM, WILLIAM        AA   \n",
      "413     Romney, Mitt           CARLSEN, RICHARD        AE   \n",
      "414     Romney, Mitt             DELUCA, PIERRE        AE   \n",
      "415     Romney, Mitt           SARGENT, MICHAEL        AE   \n",
      "...              ...                        ...       ...   \n",
      "107634  Romney, Mitt  CALEMMO, KATHLEEN M. MRS.        XX   \n",
      "107636  Romney, Mitt        CONNOR, MICHAEL MR.        XX   \n",
      "107637  Romney, Mitt       GARDNER, CLINTON MR.        XX   \n",
      "107638  Romney, Mitt   LINDEMANN, GEORGE L. MR.        XX   \n",
      "107639  Romney, Mitt           LUTER, KARIN MS.        XX   \n",
      "\n",
      "                         contbr_employer          contbr_occupation  \\\n",
      "411                        US GOVERNMENT    FOREIGN SERVICE OFFICER   \n",
      "412                        US GOVERNMENT    FOREIGN SERVICE OFFICER   \n",
      "413          DEFENSE INTELLIGENCE AGENCY       INTELLIGENCE ANALYST   \n",
      "414                                CISCO                   ENGINEER   \n",
      "415     RAYTHEON TECHNICAL SERVICES CORP  COMPUTER SYSTEMS ENGINEER   \n",
      "...                                  ...                        ...   \n",
      "107634                       NOT PROVIDE                NOT PROVIDE   \n",
      "107636              CONNOR CONCEPTS INC.                     C.E.O.   \n",
      "107637                       NOT PROVIDE      COLLEGE ADMINISTRATOR   \n",
      "107638                       NOT PROVIDE                NOT PROVIDE   \n",
      "107639                         HOMEMAKER                  HOMEMAKER   \n",
      "\n",
      "        contb_receipt_amt contb_receipt_dt       party  \n",
      "411                  25.0        01-FEB-12  Republican  \n",
      "412                 110.0        01-FEB-12  Republican  \n",
      "413                 250.0        13-APR-12  Republican  \n",
      "414                  30.0        21-AUG-11  Republican  \n",
      "415                 100.0        07-MAR-12  Republican  \n",
      "...                   ...              ...         ...  \n",
      "107634             2500.0        28-DEC-11  Republican  \n",
      "107636             2500.0        21-NOV-11  Republican  \n",
      "107637             2500.0        18-NOV-11  Republican  \n",
      "107638             2500.0        18-JAN-12  Republican  \n",
      "107639             5000.0        19-JAN-12  Republican  \n",
      "\n",
      "[105155 rows x 8 columns])\n"
     ]
    }
   ],
   "source": [
    "for i in grouped:\n",
    "    print(i)"
   ]
  },
  {
   "cell_type": "markdown",
   "metadata": {},
   "source": [
    "从数据可以看出，Obama更受精英群体（律师、医生、咨询顾问）的欢迎，Romney则得到更多企业家或企业高管的支持"
   ]
  },
  {
   "cell_type": "code",
   "execution_count": 88,
   "metadata": {},
   "outputs": [
    {
     "data": {
      "text/plain": [
       "Index(['cand_nm', 'contbr_nm', 'contbr_st', 'contbr_employer',\n",
       "       'contbr_occupation', 'contb_receipt_amt', 'contb_receipt_dt', 'party'],\n",
       "      dtype='object')"
      ]
     },
     "execution_count": 88,
     "metadata": {},
     "output_type": "execute_result"
    }
   ],
   "source": [
    "contb_vs.columns"
   ]
  },
  {
   "cell_type": "code",
   "execution_count": null,
   "metadata": {},
   "outputs": [],
   "source": [
    "#同样的，使用get_top_amounts()对雇主进行分析处理\n",
    "grouped.apply(get_top_amounts,'contbr_employer',10)"
   ]
  },
  {
   "cell_type": "markdown",
   "metadata": {},
   "source": [
    "Obama：微软、盛德国际律师事务所； Romney：瑞士瑞信银行、摩根斯坦利、高盛公司、巴克莱资本、H.I.G.资本"
   ]
  },
  {
   "cell_type": "markdown",
   "metadata": {},
   "source": [
    "-----------------------------------------------------------"
   ]
  },
  {
   "cell_type": "markdown",
   "metadata": {},
   "source": [
    "对赞助金额进行分组分析(matplotlib画图)"
   ]
  },
  {
   "cell_type": "markdown",
   "metadata": {},
   "source": [
    "前面我们已经利用pd.cut()函数，根据出资额大小将数据离散化到多个面元中，接下来我们就要对每个离散化的面元进行分组分析\n",
    "\n",
    "首先统计各出资区间的赞助笔数，这里用到unstack()，stack()函数是堆叠，unstack()函数就是不要堆叠，即把多层索引变为表格数据"
   ]
  },
  {
   "cell_type": "code",
   "execution_count": null,
   "metadata": {},
   "outputs": [],
   "source": []
  },
  {
   "cell_type": "markdown",
   "metadata": {},
   "source": [
    "接下来，我们再统计各区间的赞助金额"
   ]
  },
  {
   "cell_type": "code",
   "execution_count": 89,
   "metadata": {},
   "outputs": [
    {
     "data": {
      "text/plain": [
       "cand_nm\n",
       "Obama, Barack    1.358776e+08\n",
       "Romney, Mitt     8.833591e+07\n",
       "Name: contb_receipt_amt, dtype: float64"
      ]
     },
     "execution_count": 89,
     "metadata": {},
     "output_type": "execute_result"
    }
   ],
   "source": [
    "contb_vs.groupby(['cand_nm'])['contb_receipt_amt'].sum()"
   ]
  },
  {
   "cell_type": "code",
   "execution_count": 96,
   "metadata": {
    "scrolled": true
   },
   "outputs": [
    {
     "data": {
      "text/html": [
       "<div>\n",
       "<style scoped>\n",
       "    .dataframe tbody tr th:only-of-type {\n",
       "        vertical-align: middle;\n",
       "    }\n",
       "\n",
       "    .dataframe tbody tr th {\n",
       "        vertical-align: top;\n",
       "    }\n",
       "\n",
       "    .dataframe thead th {\n",
       "        text-align: right;\n",
       "    }\n",
       "</style>\n",
       "<table border=\"1\" class=\"dataframe\">\n",
       "  <thead>\n",
       "    <tr style=\"text-align: right;\">\n",
       "      <th>cand_nm</th>\n",
       "      <th>Obama, Barack</th>\n",
       "      <th>Romney, Mitt</th>\n",
       "    </tr>\n",
       "    <tr>\n",
       "      <th>contb_receipt_amt</th>\n",
       "      <th></th>\n",
       "      <th></th>\n",
       "    </tr>\n",
       "  </thead>\n",
       "  <tbody>\n",
       "    <tr>\n",
       "      <th>(0, 1]</th>\n",
       "      <td>493</td>\n",
       "      <td>77</td>\n",
       "    </tr>\n",
       "    <tr>\n",
       "      <th>(1, 10]</th>\n",
       "      <td>40070</td>\n",
       "      <td>3681</td>\n",
       "    </tr>\n",
       "    <tr>\n",
       "      <th>(10, 100]</th>\n",
       "      <td>372280</td>\n",
       "      <td>31853</td>\n",
       "    </tr>\n",
       "    <tr>\n",
       "      <th>(100, 1000]</th>\n",
       "      <td>153992</td>\n",
       "      <td>43357</td>\n",
       "    </tr>\n",
       "    <tr>\n",
       "      <th>(1000, 10000]</th>\n",
       "      <td>22284</td>\n",
       "      <td>26186</td>\n",
       "    </tr>\n",
       "    <tr>\n",
       "      <th>(10000, 100000]</th>\n",
       "      <td>2</td>\n",
       "      <td>1</td>\n",
       "    </tr>\n",
       "    <tr>\n",
       "      <th>(100000, 1000000]</th>\n",
       "      <td>3</td>\n",
       "      <td>0</td>\n",
       "    </tr>\n",
       "    <tr>\n",
       "      <th>(1000000, 10000000]</th>\n",
       "      <td>4</td>\n",
       "      <td>0</td>\n",
       "    </tr>\n",
       "  </tbody>\n",
       "</table>\n",
       "</div>"
      ],
      "text/plain": [
       "cand_nm              Obama, Barack  Romney, Mitt\n",
       "contb_receipt_amt                               \n",
       "(0, 1]                         493            77\n",
       "(1, 10]                      40070          3681\n",
       "(10, 100]                   372280         31853\n",
       "(100, 1000]                 153992         43357\n",
       "(1000, 10000]                22284         26186\n",
       "(10000, 100000]                  2             1\n",
       "(100000, 1000000]                3             0\n",
       "(1000000, 10000000]              4             0"
      ]
     },
     "execution_count": 96,
     "metadata": {},
     "output_type": "execute_result"
    }
   ],
   "source": [
    "contb_vs.groupby(['cand_nm',labels]).size().unstack(level = 0,fill_value = 0)"
   ]
  },
  {
   "cell_type": "code",
   "execution_count": null,
   "metadata": {},
   "outputs": [],
   "source": [
    "#绘制Obama、Romney各区间赞助总金额\n",
    "amt_vs = contb_vs.groupby(['cand_nm',labels]).sum().unstack(level = 0,fill_value = 0)\n",
    "amt_vs.fillna(0,inplace=True)"
   ]
  },
  {
   "cell_type": "code",
   "execution_count": null,
   "metadata": {},
   "outputs": [],
   "source": [
    "amt_vs.plot(kind = 'bar')"
   ]
  },
  {
   "cell_type": "code",
   "execution_count": null,
   "metadata": {},
   "outputs": [],
   "source": [
    "cond = contb_vs.contb_receipt_amt > 100000\n",
    "\n",
    "contb_vs[cond]"
   ]
  },
  {
   "cell_type": "code",
   "execution_count": null,
   "metadata": {},
   "outputs": [],
   "source": [
    "# 个人捐款\n",
    "amt_vs[:-2].plot(kind = 'bar')"
   ]
  },
  {
   "cell_type": "markdown",
   "metadata": {},
   "source": [
    "上图虽然能够大概看出Obama、Romney的赞助金额区间分布，但对比并不够突出，如果用百分比堆积图效果会更好，下面我们就实现以下。"
   ]
  },
  {
   "cell_type": "code",
   "execution_count": null,
   "metadata": {},
   "outputs": [],
   "source": [
    "#算出每个区间两位候选人收到赞助总金额的占比\n",
    "# 百分比堆积图\n",
    "amt_vs.div(amt_vs.sum(axis = 1),axis = 0)[:-2].plot(kind = 'bar',stacked = True)"
   ]
  },
  {
   "cell_type": "markdown",
   "metadata": {},
   "source": [
    "可以看出，小额赞助方面，Obama获得的数量和金额比Romney多得多"
   ]
  },
  {
   "cell_type": "markdown",
   "metadata": {},
   "source": [
    "按照赞助人姓名分组计数，计算重复赞助次数最多的前20人"
   ]
  },
  {
   "cell_type": "code",
   "execution_count": null,
   "metadata": {},
   "outputs": [],
   "source": []
  },
  {
   "cell_type": "markdown",
   "metadata": {},
   "source": [
    "### 4.时间处理"
   ]
  },
  {
   "cell_type": "markdown",
   "metadata": {},
   "source": [
    "#### 4.1 str转datetime"
   ]
  },
  {
   "cell_type": "code",
   "execution_count": null,
   "metadata": {},
   "outputs": [],
   "source": [
    "contb_vs.head()"
   ]
  },
  {
   "cell_type": "code",
   "execution_count": null,
   "metadata": {
    "scrolled": true
   },
   "outputs": [],
   "source": [
    "contb_vs.dtypes"
   ]
  },
  {
   "cell_type": "code",
   "execution_count": null,
   "metadata": {},
   "outputs": [],
   "source": [
    "contb_vs['contb_receipt_dt'] = pd.to_datetime(contb_vs['contb_receipt_dt'])"
   ]
  },
  {
   "cell_type": "code",
   "execution_count": null,
   "metadata": {},
   "outputs": [],
   "source": [
    "contb_vs.dtypes\n"
   ]
  },
  {
   "cell_type": "code",
   "execution_count": null,
   "metadata": {},
   "outputs": [],
   "source": [
    "contb_vs.head()"
   ]
  },
  {
   "cell_type": "markdown",
   "metadata": {},
   "source": [
    "#### 4.2 以时间作为索引"
   ]
  },
  {
   "cell_type": "code",
   "execution_count": null,
   "metadata": {},
   "outputs": [],
   "source": [
    "contb_vs_time = contb_vs.set_index('contb_receipt_dt')\n",
    "contb_vs_time.head()"
   ]
  },
  {
   "cell_type": "markdown",
   "metadata": {},
   "source": [
    "#### 4.3重采样和频度转换"
   ]
  },
  {
   "cell_type": "markdown",
   "metadata": {},
   "source": [
    "重采样（Resampling）指的是把时间序列的频度变为另一个频度的过程。把高频度的数据变为低频度叫做降采样（downsampling），resample会对数据进行分组，然后再调用聚合函数。这里我们把频率从每日转换为每月，属于高频转低频的降采样"
   ]
  },
  {
   "cell_type": "code",
   "execution_count": null,
   "metadata": {},
   "outputs": [],
   "source": [
    "# 行索引是时间，那么我们就可以实现重采样\n",
    "vs_m = contb_vs_time.groupby(['cand_nm']).resample('M')['contb_receipt_amt'].sum().unstack(level = 0)"
   ]
  },
  {
   "cell_type": "code",
   "execution_count": null,
   "metadata": {},
   "outputs": [],
   "source": [
    "contb_vs.groupby(['cand_nm']).resample('M')['contb_receipt_amt'].sum()"
   ]
  },
  {
   "cell_type": "code",
   "execution_count": null,
   "metadata": {},
   "outputs": [],
   "source": []
  },
  {
   "cell_type": "code",
   "execution_count": null,
   "metadata": {},
   "outputs": [],
   "source": [
    "# 我们用面积图把11年4月-12年4月两位总统候选人接受的赞助笔数做个对比可以看出，\n",
    "# 越临近竞选，大家赞助的热情越高涨，奥巴马在各个时段都占据绝对的优势\n",
    "vs_m.plot(kind = 'bar')"
   ]
  },
  {
   "cell_type": "code",
   "execution_count": null,
   "metadata": {},
   "outputs": [],
   "source": [
    "vs_m.plot(kind = 'line')"
   ]
  },
  {
   "cell_type": "code",
   "execution_count": null,
   "metadata": {},
   "outputs": [],
   "source": []
  },
  {
   "cell_type": "code",
   "execution_count": null,
   "metadata": {
    "scrolled": true
   },
   "outputs": [],
   "source": [
    "plt.figure(figsize=(32,9))\n",
    "ax = plt.subplot(1,1,1)\n",
    "vs_m.plot(kind = 'area',ax = ax,alpha = 0.6)"
   ]
  },
  {
   "cell_type": "markdown",
   "metadata": {},
   "source": [
    "### 5.各州支持率"
   ]
  },
  {
   "cell_type": "code",
   "execution_count": null,
   "metadata": {},
   "outputs": [],
   "source": [
    "contb_vs.columns"
   ]
  },
  {
   "cell_type": "code",
   "execution_count": null,
   "metadata": {},
   "outputs": [],
   "source": [
    "#依据州和候选人进行分组\n",
    "state_vs = contb_vs.groupby(['cand_nm','contbr_st'])['contb_receipt_amt'].sum().unstack(level = 0)\n",
    "state_vs"
   ]
  },
  {
   "cell_type": "code",
   "execution_count": null,
   "metadata": {},
   "outputs": [],
   "source": [
    "state_vs.fillna(0,inplace=True)"
   ]
  },
  {
   "cell_type": "code",
   "execution_count": null,
   "metadata": {},
   "outputs": [],
   "source": [
    "plt.figure(figsize=(23,9))\n",
    "\n",
    "ax = plt.subplot(1,1,1)\n",
    "\n",
    "state_vs.plot(kind = 'bar',ax = ax)"
   ]
  },
  {
   "cell_type": "code",
   "execution_count": null,
   "metadata": {},
   "outputs": [],
   "source": [
    "state_vs_rate = state_vs.div(state_vs.sum(axis = 1),axis = 0)\n",
    "state_vs_rate"
   ]
  },
  {
   "cell_type": "code",
   "execution_count": null,
   "metadata": {},
   "outputs": [],
   "source": [
    "state_vs_rate.drop(labels=['AA','AB','AE','NOT PROVIDE'],inplace = True)"
   ]
  },
  {
   "cell_type": "code",
   "execution_count": null,
   "metadata": {},
   "outputs": [],
   "source": [
    "state_vs_rate"
   ]
  },
  {
   "cell_type": "code",
   "execution_count": null,
   "metadata": {},
   "outputs": [],
   "source": [
    "# basemape 工具包，pip install basemap\n",
    "# basemape绘制地图，pip install 无法安装成功\n",
    "# 下载：https://www.lfd.uci.edu/~gohlke/pythonlibs/"
   ]
  },
  {
   "cell_type": "code",
   "execution_count": null,
   "metadata": {},
   "outputs": [],
   "source": [
    "state_vs_rate"
   ]
  },
  {
   "cell_type": "code",
   "execution_count": null,
   "metadata": {
    "scrolled": true
   },
   "outputs": [],
   "source": [
    "state_vs_rate['Obama, Barack'].iloc[0]"
   ]
  },
  {
   "cell_type": "code",
   "execution_count": null,
   "metadata": {},
   "outputs": [],
   "source": [
    "oba = state_vs_rate['Obama, Barack']\n",
    "oba"
   ]
  },
  {
   "cell_type": "code",
   "execution_count": null,
   "metadata": {},
   "outputs": [],
   "source": [
    "cmap = plt.cm.YlOrBr\n",
    "\n",
    "\n",
    "for i in range(10):\n",
    "    print(i)\n",
    "    plt.plot(np.arange(10) + i,c = cmap(state_vs_rate['Obama, Barack'].iloc[i]))"
   ]
  },
  {
   "cell_type": "code",
   "execution_count": null,
   "metadata": {},
   "outputs": [],
   "source": [
    "import matplotlib.pyplot as plt\n",
    "%matplotlib inline\n",
    "\n",
    "from mpl_toolkits.basemap import Basemap"
   ]
  },
  {
   "cell_type": "code",
   "execution_count": null,
   "metadata": {},
   "outputs": [],
   "source": [
    "from matplotlib.patches import Polygon"
   ]
  },
  {
   "cell_type": "code",
   "execution_count": null,
   "metadata": {},
   "outputs": [],
   "source": [
    "cmap(0)"
   ]
  },
  {
   "cell_type": "code",
   "execution_count": null,
   "metadata": {},
   "outputs": [],
   "source": [
    "oba['AK']"
   ]
  },
  {
   "cell_type": "code",
   "execution_count": null,
   "metadata": {
    "scrolled": true
   },
   "outputs": [],
   "source": [
    "oba['MA']"
   ]
  },
  {
   "cell_type": "code",
   "execution_count": null,
   "metadata": {},
   "outputs": [],
   "source": [
    "oba['RI']"
   ]
  },
  {
   "cell_type": "code",
   "execution_count": null,
   "metadata": {},
   "outputs": [],
   "source": [
    "# 州全称对应缩写缩写\n",
    "abbr = {'Commonwealth of Kentucky':'KY','Commonwealth of Massachusetts':'MA','Commonwealth of Pennsylvania':'PA',\n",
    "        'State of Rhode Island and Providence Plantations':'RI'}"
   ]
  },
  {
   "cell_type": "code",
   "execution_count": null,
   "metadata": {},
   "outputs": [],
   "source": [
    "'''llcrnrlon\t所需地图域（度）的左下角经度。\n",
    "llcrnrlat\t所需地图域左下角的纬度（度）。\n",
    "urcrnrlon\t所需地图域（度）的右上角经度。\n",
    "urcrnrlat\t所需地图域右上角的纬度（度）。\n",
    "'''\n",
    "\n",
    "\n",
    "\n",
    "# hex16进制表示的颜色\n",
    "from matplotlib.colors import rgb2hex\n",
    "\n",
    "plt.figure(figsize=(12,9))\n",
    "# lat_1 or lat_0 and lon_0\n",
    "m = Basemap(llcrnrlon = -122,\n",
    "           llcrnrlat = 23.41,\n",
    "           urcrnrlon = -64,\n",
    "           urcrnrlat = 45,\n",
    "           projection = 'lcc',\n",
    "            lat_1 =30,\n",
    "            lon_0 = -100\n",
    "            )\n",
    "\n",
    "m.drawcoastlines(linewidth=1.5)\n",
    "m.drawcountries(linewidth = 1.5)\n",
    "# m.drawstates()\n",
    "\n",
    "# 地图读取了美国地图形状，m中就有各州的形状，数据\n",
    "m.readshapefile('./USA/gadm36_USA_1',name = 'states')\n",
    "\n",
    "\n",
    "colors = []\n",
    "states = []\n",
    "\n",
    "cmap = plt.cm.Reds\n",
    "\n",
    "for shapeinfo in m.states_info:\n",
    "    a = shapeinfo['VARNAME_1']\n",
    "#     州的缩写\n",
    "    s = a.split('|')[0]\n",
    "    \n",
    "#     可以代表颜色\n",
    "    try:\n",
    "        rate = oba[s]\n",
    "    \n",
    "        colors.append(cmap(rate))\n",
    "        states.append(s)\n",
    "    except:\n",
    "        colors.append(cmap(oba[abbr[s]]))\n",
    "        states.append(s)\n",
    "    \n",
    "# 州填充颜色\n",
    "# seg州中的一部分区域，多边形\n",
    "ax = plt.gca()\n",
    "for n,seg in enumerate(m.states):\n",
    "    c = rgb2hex(colors[n])\n",
    "    poly = Polygon(seg,color = c )\n",
    "    ax.add_patch(poly)\n",
    "    \n",
    "plt.show()"
   ]
  },
  {
   "cell_type": "code",
   "execution_count": null,
   "metadata": {},
   "outputs": [],
   "source": [
    "colors = []\n",
    "states = []\n",
    "for shapeinfo in m.states_info:\n",
    "    a = shape['VARNAME_1']\n",
    "#     州的缩写\n",
    "    s = a.split('|')[0]\n",
    "    print('+++++++++++++++++++++++++++',s)\n",
    "#     可以代表颜色\n",
    "    try:\n",
    "        rate = oba[s]\n",
    "        print('----------------',rate)\n",
    "    \n",
    "        colors.append(cmap(rate))\n",
    "        states.append(s)\n",
    "    except:\n",
    "        colors.append(cmap(0))\n",
    "        states.append(s)"
   ]
  },
  {
   "cell_type": "code",
   "execution_count": null,
   "metadata": {},
   "outputs": [],
   "source": []
  },
  {
   "cell_type": "code",
   "execution_count": null,
   "metadata": {},
   "outputs": [],
   "source": []
  },
  {
   "cell_type": "code",
   "execution_count": null,
   "metadata": {},
   "outputs": [],
   "source": []
  },
  {
   "cell_type": "code",
   "execution_count": null,
   "metadata": {},
   "outputs": [],
   "source": []
  },
  {
   "cell_type": "code",
   "execution_count": null,
   "metadata": {},
   "outputs": [],
   "source": [
    "for n,seg in enumerate(m.states):\n",
    "    print(n)"
   ]
  },
  {
   "cell_type": "code",
   "execution_count": null,
   "metadata": {},
   "outputs": [],
   "source": [
    "oba['AL']"
   ]
  },
  {
   "cell_type": "code",
   "execution_count": null,
   "metadata": {},
   "outputs": [],
   "source": [
    "for shape in m.states_info:\n",
    "    print(shape['VARNAME_1'].split('|')[0])"
   ]
  },
  {
   "cell_type": "code",
   "execution_count": null,
   "metadata": {},
   "outputs": [],
   "source": [
    "for shape in m.states_info:\n",
    "    print(shape['VARNAME_1'].split('|')[0])"
   ]
  },
  {
   "cell_type": "code",
   "execution_count": null,
   "metadata": {},
   "outputs": [],
   "source": []
  },
  {
   "cell_type": "code",
   "execution_count": null,
   "metadata": {},
   "outputs": [],
   "source": []
  },
  {
   "cell_type": "code",
   "execution_count": null,
   "metadata": {},
   "outputs": [],
   "source": []
  },
  {
   "cell_type": "code",
   "execution_count": null,
   "metadata": {},
   "outputs": [],
   "source": []
  },
  {
   "cell_type": "code",
   "execution_count": null,
   "metadata": {},
   "outputs": [],
   "source": []
  },
  {
   "cell_type": "code",
   "execution_count": null,
   "metadata": {},
   "outputs": [],
   "source": [
    "for "
   ]
  },
  {
   "cell_type": "code",
   "execution_count": null,
   "metadata": {},
   "outputs": [],
   "source": [
    "# 州全称对应缩写缩写\n",
    "abbr = {'Commonwealth of Kentucky':'KY','Commonwealth of Massachusetts':'MA','Commonwealth of Pennsylvania':'PA',\n",
    "        'State of Rhode Island and Providence Plantations':'RI'}"
   ]
  },
  {
   "cell_type": "markdown",
   "metadata": {},
   "source": [
    "![](usa_states_rate.jpg)"
   ]
  },
  {
   "cell_type": "code",
   "execution_count": null,
   "metadata": {
    "scrolled": true
   },
   "outputs": [],
   "source": [
    "from mpl_toolkits.basemap import Basemap\n",
    "import matplotlib.pyplot as plt\n",
    "import numpy as np\n",
    "# 常规操作， 导入numpy, matplotlib.pyplot和basemap\n",
    "map = Basemap(projection='ortho',lat_0=45,lon_0=-100,resolution='l')\n",
    "# 设置地图正射投影点为北纬50度， 西经100度，海岸线的分辨率为低 \n",
    "# draw coastlines, country boundaries, fill continents.\n",
    "map.drawcoastlines(linewidth=0.25)\n",
    "# 画出海岸线（描边）\n",
    "map.drawcountries(linewidth=0.25)\n",
    "# 画出国境线（描边）\n",
    "map.fillcontinents(color='coral',lake_color='aqua')\n",
    "# 填充大陆, 大陆颜色为珊瑚色， 湖泊颜色为水色\n",
    "map.drawmapboundary(fill_color='aqua')\n",
    "# 画出地图边界，海洋区域颜色为水色\n",
    "map.drawmeridians(np.arange(0,360,30))\n",
    "map.drawparallels(np.arange(-90,90,30))\n",
    "# 每三十度画出经纬度线\n",
    "nlats = 73; nlons = 145; delta = 2.*np.pi/(nlons-1)\n",
    "lats = (0.5*np.pi-delta*np.indices((nlats,nlons))[0,:,:])\n",
    "lons = (delta*np.indices((nlats,nlons))[1,:,:])\n",
    "wave = 0.75*(np.sin(2.*lats)**8*np.cos(4.*lons))\n",
    "mean = 0.5*np.cos(2.*lats)*((np.sin(2.*lats))**2 + 2.)\n",
    "# 在规则网格上填充数据\n",
    "x, y = map(lons*180./np.pi, lats*180./np.pi)\n",
    "#投影到球面上\n",
    "cs = map.contour(x,y,wave+mean,15,linewidths=1.5)\n",
    "# 以x,y为基准协调画出wave+mean的轮廓线， 轮廓线条数为15. 参数详情见\n",
    "# https://matplotlib.org/devdocs/api/_as_gen/matplotlib.pyplot.contour.html\n",
    "plt.title('contour lines over filled continent background')\n",
    "plt.show()\n",
    "plt.savefig('contour lines over continent.jpg')\n"
   ]
  },
  {
   "cell_type": "code",
   "execution_count": null,
   "metadata": {
    "scrolled": true
   },
   "outputs": [],
   "source": [
    "from mpl_toolkits.basemap import Basemap, cm\n",
    "# cm(colormap)库提供一系列彩色地图\n",
    "from netCDF4 import Dataset as NetCDFFile\n",
    "import numpy as np\n",
    "import matplotlib.pyplot as plt\n",
    "#同上文，导入numpy, matplotlib.pyplot，导入netCDF4中的Dataset处理网络通用\n",
    "#数据格式（net common data form）\n",
    "\n",
    "nc = NetCDFFile('nws_precip_conus_20061222.nc')\n",
    "#首先在http://water.weather.gov/precip/中下载2006年12月22日的美国本土\n",
    "#（不含阿拉斯加与夏威夷）的降水量数据\n",
    "#导入我们需要用到的dataset， 值得注意的是该网站17年3月后的数据格式更新， \n",
    "#通过查询变量名发现数据格式与之前有很大差异\n",
    "print(nc.variables.keys())\n",
    "# 输出查看数据中的变量名\n",
    "prcpvar = nc.variables['amountofprecip']\n",
    "data = 0.01*prcpvar[:]\n",
    "latcorners = nc.variables['lat'][:]\n",
    "loncorners = -nc.variables['lon'][:]\n",
    "lon_0 = -nc.variables['true_lon'].getValue()\n",
    "lat_0 = nc.variables['true_lat'].getValue()\n",
    "# 标准化降水量与提取经纬度参数\n",
    "fig = plt.figure(figsize=(8,8))\n",
    "ax = fig.add_axes([0.1,0.1,0.8,0.8])\n",
    "#创建图像对象，设置图像大小与轴线起始位置 \n",
    "# create polar stereographic Basemap instance.\n",
    "m = Basemap(projection='stere',lon_0=lon_0,lat_0=90.,lat_ts=lat_0,\\\n",
    "            llcrnrlat=latcorners[0],urcrnrlat=latcorners[2],\\\n",
    "            llcrnrlon=loncorners[0],urcrnrlon=loncorners[2],\\\n",
    "            rsphere=6371200.,resolution='l',area_thresh=10000)\n",
    "#画立体投影图， 设置图形上下左右四个边界点经纬度参数坐标，中心点经纬度参\n",
    "#数坐标,定义地图投影的球面半径(默认值为6370997米，近似于地球的半径），\n",
    "#分辨率以及阈值 \n",
    "# 注: area_thresh = 10000 意味着面积小于10000平方公里的湖泊等对象将不被作图\n",
    "m.drawcoastlines()\n",
    "m.drawstates()\n",
    "m.drawcountries()\n",
    "# 画海岸线，州界， 国界线\n",
    "parallels = np.arange(0.,90,10.)\n",
    "m.drawparallels(parallels,labels=[1,0,0,0],fontsize=10)\n",
    "#以10度为间隔画出0度到北纬90度纬线， 并且在图像左侧设置纬线标签\n",
    "meridians = np.arange(180.,360.,10.)\n",
    "#以10度为间隔画出西经180度到本初子午线经线， 并且在图像下侧设置经线标签\n",
    "m.drawmeridians(meridians,labels=[0,0,0,1],fontsize=10)\n",
    "ny = data.shape[0]; nx = data.shape[1]\n",
    "lons, lats = m.makegrid(nx, ny)\n",
    "# 经纬线空间均匀\n",
    "x, y = m(lons, lats) \n",
    "clevs = [0,1,2.5,5,7.5,10,15,20,30,40,50,70,100,150,200,250,300,400,500,600,750]\n",
    "cs = m.contourf(x,y,data,clevs,cmap=cm.s3pcpn)\n",
    "# 添加参数表，以x,y为基准画出data的轮廓线，等轮廓线参数为clevs，填充颜色画出填充后的轮廓线\n",
    "cbar = m.colorbar(cs,location='bottom',pad=\"5%\")\n",
    "#添加色标, 每个色标占5%（一共20个色标）\n",
    "cbar.set_label('mm')\n",
    "# 添加标签 单位：毫米\n",
    "plt.title(prcpvar.long_name+' for period ending '+prcpvar.dateofdata)\n",
    "# 添加图像名\n",
    "plt.show()\n",
    "plt.savefig('24hrs rainfall of 20061222 for CONUS.jpg')"
   ]
  },
  {
   "cell_type": "code",
   "execution_count": null,
   "metadata": {
    "scrolled": true
   },
   "outputs": [],
   "source": [
    "plt.figure(figsize=(8, 8))\n",
    "#设新图\n",
    "m = Basemap(projection='ortho', resolution=None, lat_0=30, lon_0=120)\n",
    "#正射投影，投影原点设在了上海周边\n",
    "m.bluemarble(scale=0.5);"
   ]
  },
  {
   "cell_type": "code",
   "execution_count": null,
   "metadata": {},
   "outputs": [],
   "source": [
    "import numpy as np\n",
    "from mpl_toolkits.basemap import Basemap\n",
    "import matplotlib.pyplot as plt\n",
    "from datetime import datetime\n",
    "#python标准库 日期与时间\n",
    "from dateutil import tz\n",
    "#这是一个第三方库，拓展了标准时间库，tz = time zone\n",
    "fig=plt.figure()\n",
    "ax=fig.add_axes([0.1,0.1,0.8,0.8])\n",
    "# 新图对象\n",
    "map = Basemap(projection='mill',lon_0=180)\n",
    "#米勒投影法，此投影与墨卡托投影类似，只是极点区域的面积变形不如后者大。向极点靠近时，两\n",
    "#条纬线的间距比墨卡托投影的小。这样就降低了面积变形程度，但这会导致局部形状和方向发生变形。\n",
    "map.drawcoastlines()\n",
    "#画海岸线\n",
    "map.drawparallels(np.arange(-90,90,30),labels=[1,0,0,0])\n",
    "map.drawmeridians(np.arange(map.lonmin,map.lonmax+30,60),labels=[0,0,0,1])\n",
    "#numpy的作用只是提供了数组\n",
    "map.drawmapboundary(fill_color='aqua')\n",
    "#边界aqua(水）色\n",
    "map.fillcontinents(color='coral',lake_color='aqua')\n",
    "#大陆珊瑚色，湖泊水色\n",
    "date = datetime.now()\n",
    "#这个是local时间，我所在的芝加哥地区是(CST)central standard time\n",
    "#如果想取格林尼治时间（Coordinated Universal Time），以上这句改为\n",
    "#date = datetime.utcnow()即可\n",
    "CS=map.nightshade(date)\n",
    "#basemap中的nightshade函数用作将夜晚区域覆盖作阴影，具体参数不扩展\n",
    "#有兴趣了解搜索basemap.nightshade即可\n",
    "plt.title('Day/Night Map for %s (CST)' % date.strftime(\"%d %b %Y %H:%M:%S\"))\n",
    "#设置图名， datetime格式日/月/年/时/分/秒\n",
    "plt.show()"
   ]
  }
 ],
 "metadata": {
  "kernelspec": {
   "display_name": "Python 3",
   "language": "python",
   "name": "python3"
  },
  "language_info": {
   "codemirror_mode": {
    "name": "ipython",
    "version": 3
   },
   "file_extension": ".py",
   "mimetype": "text/x-python",
   "name": "python",
   "nbconvert_exporter": "python",
   "pygments_lexer": "ipython3",
   "version": "3.8.3"
  }
 },
 "nbformat": 4,
 "nbformat_minor": 2
}
