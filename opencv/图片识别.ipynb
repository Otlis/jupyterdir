{
 "cells": [
  {
   "cell_type": "code",
   "execution_count": 1,
   "metadata": {},
   "outputs": [],
   "source": [
    "import numpy\n",
    "import cv2"
   ]
  },
  {
   "cell_type": "code",
   "execution_count": 2,
   "metadata": {},
   "outputs": [],
   "source": [
    "p3=cv2.imread(\"./p3.jpg\")\n",
    "\n",
    "# 这个方法是级联分类  给定特征文件，根据特征识别\n",
    "# 现在提供了人脸的特征数据,返回的相当于一个人脸探测器\n",
    "detector=cv2.CascadeClassifier('./face.xml')"
   ]
  },
  {
   "cell_type": "code",
   "execution_count": 6,
   "metadata": {
    "collapsed": true
   },
   "outputs": [
    {
     "data": {
      "text/plain": [
       "array([[ 730,  174,   42,   42],\n",
       "       [ 611,  175,   49,   49],\n",
       "       [ 466,  181,   54,   54],\n",
       "       [ 845,  182,   47,   47],\n",
       "       [ 104,  186,   45,   45],\n",
       "       [ 338,  187,   44,   44],\n",
       "       [ 972,  185,   52,   52],\n",
       "       [1087,  190,   48,   48],\n",
       "       [ 218,  200,   44,   44],\n",
       "       [ 986,  108,   33,   33],\n",
       "       [ 334,  104,   38,   38],\n",
       "       [ 718,  107,   36,   36],\n",
       "       [ 688,  217,   54,   54],\n",
       "       [ 904,  214,   51,   51],\n",
       "       [1055,   66,   36,   36],\n",
       "       [1096,  103,   45,   45],\n",
       "       [1040,  220,   50,   50],\n",
       "       [ 505,  112,   43,   43],\n",
       "       [ 798,  113,   38,   38],\n",
       "       [ 814,  218,   47,   47],\n",
       "       [ 146,  227,   45,   45],\n",
       "       [ 398,  225,   49,   49],\n",
       "       [ 534,  225,   57,   57],\n",
       "       [ 243,   77,   37,   37],\n",
       "       [ 613,  128,   42,   42],\n",
       "       [ 399,  135,   41,   41],\n",
       "       [ 267,  230,   53,   53],\n",
       "       [1135,  237,   46,   46]], dtype=int32)"
      ]
     },
     "execution_count": 6,
     "metadata": {},
     "output_type": "execute_result"
    }
   ],
   "source": [
    "# 找出的是图片中人脸的区域\n",
    "# 数据的含义：前两个数是左上角的坐标，宽 高，\n",
    "# 识别是从左上角开始的 (0,0)\n",
    "# 这里的参数，在识别不准时，可以指定\n",
    "# minSize 和maxSize   \n",
    "# minNeighbors(指定有多少个特征时，才会识别成功)  默认是3\n",
    "# scaleFactor 参数的意思是再识别不成功时扩大区域的倍数\n",
    "face_zone=detector.detectMultiScale(p3)\n",
    "face_zone"
   ]
  },
  {
   "cell_type": "code",
   "execution_count": 12,
   "metadata": {},
   "outputs": [],
   "source": [
    "# 在原始图片上，把人脸的区域画出来\n",
    "for x,y,w,h in face_zone:\n",
    "    cv2.rectangle(p3,pt1=(x,y),pt2=(x+w,y+h),color=[0,0,255],thickness=2)\n",
    "    cv2.circle(p3,(x+w//2,y+h//2),radius=w//2,color=[0,255,0],thickness=2)\n",
    "cv2.imshow('jin',p3)\n",
    "cv2.waitKey(3000)\n",
    "cv2.destroyAllWindows()"
   ]
  },
  {
   "cell_type": "code",
   "execution_count": null,
   "metadata": {},
   "outputs": [],
   "source": []
  }
 ],
 "metadata": {
  "kernelspec": {
   "display_name": "Python 3",
   "language": "python",
   "name": "python3"
  },
  "language_info": {
   "codemirror_mode": {
    "name": "ipython",
    "version": 3
   },
   "file_extension": ".py",
   "mimetype": "text/x-python",
   "name": "python",
   "nbconvert_exporter": "python",
   "pygments_lexer": "ipython3",
   "version": "3.8.3"
  }
 },
 "nbformat": 4,
 "nbformat_minor": 4
}
