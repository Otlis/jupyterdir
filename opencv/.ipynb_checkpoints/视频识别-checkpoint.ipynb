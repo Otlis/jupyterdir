{
 "cells": [
  {
   "cell_type": "code",
   "execution_count": 1,
   "metadata": {},
   "outputs": [],
   "source": [
    "import numpy\n",
    "import cv2"
   ]
  },
  {
   "cell_type": "code",
   "execution_count": 2,
   "metadata": {},
   "outputs": [
    {
     "data": {
      "text/plain": [
       "<VideoCapture 000001896BEEA270>"
      ]
     },
     "execution_count": 2,
     "metadata": {},
     "output_type": "execute_result"
    }
   ],
   "source": [
    "video=cv2.VideoCapture('./video.mp4')\n",
    "video"
   ]
  },
  {
   "cell_type": "code",
   "execution_count": 11,
   "metadata": {},
   "outputs": [
    {
     "data": {
      "text/plain": [
       "25.0"
      ]
     },
     "execution_count": 11,
     "metadata": {},
     "output_type": "execute_result"
    }
   ],
   "source": [
    "# get 获取属性\n",
    "# 这个属性是视频的帧率\n",
    "# frame per second\n",
    "video.get(propId=cv2.CAP_PROP_FPS )\n",
    "# 下面frame展示的时候，可以1000//25 来指定间隔多少毫秒展示一张，可以和原视频相同的速度"
   ]
  },
  {
   "cell_type": "code",
   "execution_count": 15,
   "metadata": {},
   "outputs": [
    {
     "name": "stdout",
     "output_type": "stream",
     "text": [
      "4504.0 404.0\n"
     ]
    }
   ],
   "source": [
    "# 一共有多少帧\n",
    "a=video.get(propId=cv2.CAP_PROP_FRAME_COUNT)\n",
    "# 每帧的宽\n",
    "b=video.get(propId=cv2.CAP_PROP_FRAME_HEIGHT)\n",
    "print(a,b)"
   ]
  },
  {
   "cell_type": "code",
   "execution_count": 6,
   "metadata": {
    "scrolled": true
   },
   "outputs": [
    {
     "name": "stdout",
     "output_type": "stream",
     "text": [
      "True (404, 720, 3)\n"
     ]
    }
   ],
   "source": [
    "# 获取的视频对象是 VideoCapture 他就是获取的视频的每帧的一个集合\n",
    "flage,frame=video.read()\n",
    "print(flage,frame.shape)"
   ]
  },
  {
   "cell_type": "code",
   "execution_count": 10,
   "metadata": {},
   "outputs": [],
   "source": [
    "# 显示所有的帧\n",
    "# video.isOpened()判断视频流是否还打开\n",
    "while video.isOpened():\n",
    "    flage,frame=video.read()\n",
    "    if flage==False:\n",
    "        break\n",
    "    cv2.imshow('guizi',frame)\n",
    "    # 等待10毫秒，也就是1s中播放10张图片\n",
    "    # 人眼可以识别成视频的帧率为 1s 24帧  1000/24=41 间隔41ms播放一帧\n",
    "    if ord('q')==cv2.waitKey(41):\n",
    "        break\n",
    "cv2.destroyAllWindows()"
   ]
  }
 ],
 "metadata": {
  "kernelspec": {
   "display_name": "Python 3",
   "language": "python",
   "name": "python3"
  },
  "language_info": {
   "codemirror_mode": {
    "name": "ipython",
    "version": 3
   },
   "file_extension": ".py",
   "mimetype": "text/x-python",
   "name": "python",
   "nbconvert_exporter": "python",
   "pygments_lexer": "ipython3",
   "version": "3.8.3"
  }
 },
 "nbformat": 4,
 "nbformat_minor": 4
}
