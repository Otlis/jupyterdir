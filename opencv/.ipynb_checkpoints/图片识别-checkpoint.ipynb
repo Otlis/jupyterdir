{
 "cells": [
  {
   "cell_type": "code",
   "execution_count": 1,
   "metadata": {},
   "outputs": [],
   "source": [
    "import numpy\n",
    "import cv2"
   ]
  },
  {
   "cell_type": "code",
   "execution_count": 2,
   "metadata": {},
   "outputs": [],
   "source": [
    "p1=cv2.imread(\"./p1.jpg\")\n",
    "\n",
    "# 这个方法是级联分类  给定特征文件，根据特征识别\n",
    "# 现在提供了人脸的特征数据,返回的相当于一个人脸探测器\n",
    "detector=cv2.CascadeClassifier('./face.xml')"
   ]
  },
  {
   "cell_type": "code",
   "execution_count": 4,
   "metadata": {},
   "outputs": [
    {
     "data": {
      "text/plain": [
       "array([[135,  55, 153, 153]], dtype=int32)"
      ]
     },
     "execution_count": 4,
     "metadata": {},
     "output_type": "execute_result"
    }
   ],
   "source": [
    "# 找出的是图片中人脸的区域\n",
    "# 数据的含义：前两个数是左上角的坐标，宽 高，\n",
    "# 识别是从左上角开始的 (0,0)\n",
    "face_zone=detector.detectMultiScale(p1)\n",
    "face_zone"
   ]
  },
  {
   "cell_type": "code",
   "execution_count": 6,
   "metadata": {},
   "outputs": [],
   "source": [
    "# 在原始图片上，把人脸的区域画出来\n",
    "for x,y,w,h in face_zone:\n",
    "    cv2.rectangle(p1,pt1=(x,y),pt2=(x+w,y+h),color=[0,0,255],thickness=2)\n",
    "cv2.imshow('jin',p1)\n",
    "cv2.waitKey(3000)\n",
    "cv2.destroyAllWindows()"
   ]
  }
 ],
 "metadata": {
  "kernelspec": {
   "display_name": "Python 3",
   "language": "python",
   "name": "python3"
  },
  "language_info": {
   "codemirror_mode": {
    "name": "ipython",
    "version": 3
   },
   "file_extension": ".py",
   "mimetype": "text/x-python",
   "name": "python",
   "nbconvert_exporter": "python",
   "pygments_lexer": "ipython3",
   "version": "3.8.3"
  }
 },
 "nbformat": 4,
 "nbformat_minor": 4
}
