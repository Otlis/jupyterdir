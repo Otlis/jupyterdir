{
 "cells": [
  {
   "cell_type": "code",
   "execution_count": 1,
   "metadata": {},
   "outputs": [],
   "source": [
    "import numpy\n",
    "import cv2"
   ]
  },
  {
   "cell_type": "code",
   "execution_count": 2,
   "metadata": {},
   "outputs": [],
   "source": [
    "# 读取图片\n",
    "p1=cv2.imread('./p1.jpg')\n",
    "p2=cv2.imread('./p2.jpg')"
   ]
  },
  {
   "cell_type": "code",
   "execution_count": 3,
   "metadata": {},
   "outputs": [
    {
     "data": {
      "text/plain": [
       "(293, 365, 3)"
      ]
     },
     "execution_count": 3,
     "metadata": {},
     "output_type": "execute_result"
    }
   ],
   "source": [
    "p1.shape # 显示长 宽 像素"
   ]
  },
  {
   "cell_type": "code",
   "execution_count": 5,
   "metadata": {},
   "outputs": [],
   "source": [
    "cv2.imshow('JIN',p1)\n",
    "\n",
    "# 等待键盘输入，单位毫秒，如果是0 无限等待,输入任意值 停止\n",
    "cv2.waitKey(0)\n",
    "\n",
    "cv2.destroyAllWindows()  "
   ]
  },
  {
   "cell_type": "code",
   "execution_count": 19,
   "metadata": {},
   "outputs": [],
   "source": [
    "# 用户输入特定值关闭，当用户输入q时关闭\n",
    "# ord() 是转码的方法\n",
    "\n",
    "cv2.imshow('JIN',p1)\n",
    "\n",
    "while True:\n",
    "    if ord('q')==cv2.waitKey(1000):\n",
    "        break\n",
    "cv2.destroyAllWindows()  "
   ]
  },
  {
   "cell_type": "code",
   "execution_count": 7,
   "metadata": {},
   "outputs": [],
   "source": [
    "# BGR \n",
    "a=cv2.cvtColor(p1,code=cv2.COLOR_BGR2GRAY)\n",
    "cv2.imshow('JIN',a)\n",
    "cv2.waitKey(0)\n",
    "\n",
    "cv2.destroyAllWindows()  "
   ]
  },
  {
   "cell_type": "code",
   "execution_count": 8,
   "metadata": {},
   "outputs": [
    {
     "data": {
      "text/plain": [
       "True"
      ]
     },
     "execution_count": 8,
     "metadata": {},
     "output_type": "execute_result"
    }
   ],
   "source": [
    "# 图片保存\n",
    "cv2.imwrite('./haha.jpg',a)"
   ]
  },
  {
   "cell_type": "code",
   "execution_count": 14,
   "metadata": {},
   "outputs": [],
   "source": [
    "# 改变图片大小\n",
    "b=cv2.resize(p1,dsize=(600,700))\n",
    "cv2.imshow('JIN',b)\n",
    "\n",
    "# 等待键盘输入，单位毫秒，如果是0 无限等待,输入任意值 停止\n",
    "cv2.waitKey(3000)\n",
    "\n",
    "cv2.destroyAllWindows()  "
   ]
  },
  {
   "cell_type": "code",
   "execution_count": null,
   "metadata": {},
   "outputs": [],
   "source": []
  }
 ],
 "metadata": {
  "kernelspec": {
   "display_name": "Python 3",
   "language": "python",
   "name": "python3"
  },
  "language_info": {
   "codemirror_mode": {
    "name": "ipython",
    "version": 3
   },
   "file_extension": ".py",
   "mimetype": "text/x-python",
   "name": "python",
   "nbconvert_exporter": "python",
   "pygments_lexer": "ipython3",
   "version": "3.8.3"
  }
 },
 "nbformat": 4,
 "nbformat_minor": 4
}
