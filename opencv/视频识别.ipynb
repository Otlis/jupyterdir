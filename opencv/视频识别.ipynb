{
 "cells": [
  {
   "cell_type": "code",
   "execution_count": 2,
   "metadata": {},
   "outputs": [],
   "source": [
    "import numpy\n",
    "import cv2"
   ]
  },
  {
   "cell_type": "code",
   "execution_count": 4,
   "metadata": {},
   "outputs": [
    {
     "data": {
      "text/plain": [
       "<VideoCapture 00000206FC639570>"
      ]
     },
     "execution_count": 4,
     "metadata": {},
     "output_type": "execute_result"
    }
   ],
   "source": [
    "video=cv2.VideoCapture('./video.mp4')\n",
    "video"
   ]
  },
  {
   "cell_type": "code",
   "execution_count": 3,
   "metadata": {},
   "outputs": [
    {
     "data": {
      "text/plain": [
       "25.0"
      ]
     },
     "execution_count": 3,
     "metadata": {},
     "output_type": "execute_result"
    }
   ],
   "source": [
    "# get 获取属性\n",
    "# 这个属性是视频的帧率\n",
    "# frame per second\n",
    "video.get(propId=cv2.CAP_PROP_FPS )\n",
    "# 下面frame展示的时候，可以1000//25 来指定间隔多少毫秒展示一张，可以和原视频相同的速度"
   ]
  },
  {
   "cell_type": "code",
   "execution_count": 4,
   "metadata": {},
   "outputs": [
    {
     "name": "stdout",
     "output_type": "stream",
     "text": [
      "4504.0 404.0\n"
     ]
    }
   ],
   "source": [
    "# 一共有多少帧\n",
    "a=video.get(propId=cv2.CAP_PROP_FRAME_COUNT)\n",
    "# 每帧的宽\n",
    "b=video.get(propId=cv2.CAP_PROP_FRAME_HEIGHT)\n",
    "print(a,b)"
   ]
  },
  {
   "cell_type": "code",
   "execution_count": 5,
   "metadata": {
    "scrolled": true
   },
   "outputs": [
    {
     "name": "stdout",
     "output_type": "stream",
     "text": [
      "True (404, 720, 3)\n"
     ]
    }
   ],
   "source": [
    "# 获取的视频对象是 VideoCapture 他就是获取的视频的每帧的一个集合\n",
    "flage,frame=video.read()\n",
    "print(flage,frame.shape)"
   ]
  },
  {
   "cell_type": "code",
   "execution_count": null,
   "metadata": {},
   "outputs": [],
   "source": [
    "# 显示所有的帧\n",
    "# video.isOpened()判断视频流是否还打开\n",
    "while video.isOpened():\n",
    "    flage,frame=video.read()\n",
    "    if flage==False:\n",
    "        break\n",
    "    cv2.imshow('guizi',frame)\n",
    "    # 等待10毫秒，也就是1s中播放10张图片\n",
    "    # 人眼可以识别成视频的帧率为 1s 24帧  1000/24=41 间隔41ms播放一帧\n",
    "    if ord('q')==cv2.waitKey(41):\n",
    "        break\n",
    "cv2.destroyAllWindows()"
   ]
  },
  {
   "cell_type": "code",
   "execution_count": 6,
   "metadata": {},
   "outputs": [],
   "source": [
    "decoter=cv2.CascadeClassifier('./face.xml') "
   ]
  },
  {
   "cell_type": "code",
   "execution_count": 9,
   "metadata": {},
   "outputs": [
    {
     "data": {
      "text/plain": [
       "<function VideoCapture.release>"
      ]
     },
     "execution_count": 9,
     "metadata": {},
     "output_type": "execute_result"
    }
   ],
   "source": [
    "# 对每帧进行人脸识别\n",
    "\n",
    "while video.isOpened():\n",
    "    flage,frame=video.read()\n",
    "    if flage==False:\n",
    "        break\n",
    "    \n",
    "     # 转成黑白\n",
    "    gray=cv2.cvtColor(frame,code=cv2.COLOR_BGR2GRAY)\n",
    "    face_zone=decoter.detectMultiScale(gray)\n",
    "    for x,y,w,h in face_zone:\n",
    "        cv2.rectangle(frame,pt1=(x,y),pt2=(x+w,y+h),color=[0,0,255],thickness=2)\n",
    "        \n",
    "    cv2.imshow('guizi',frame)\n",
    "    # 等待10毫秒，也就是1s中播放10张图片\n",
    "    # 人眼可以识别成视频的帧率为 1s 24帧  1000/24=41 间隔41ms播放一帧\n",
    "    if ord('q')==cv2.waitKey(41):\n",
    "        break\n",
    "cv2.destroyAllWindows()\n",
    "# 释放视频流\n",
    "video.release"
   ]
  },
  {
   "cell_type": "code",
   "execution_count": 7,
   "metadata": {},
   "outputs": [
    {
     "data": {
      "text/plain": [
       "<function VideoCapture.release>"
      ]
     },
     "execution_count": 7,
     "metadata": {},
     "output_type": "execute_result"
    }
   ],
   "source": [
    "# 调用本地摄像头\n",
    "# 如果参数是0 则调取本地的摄像头\n",
    "my_cam=cv2.VideoCapture(0)\n",
    "\n",
    "while video.isOpened():\n",
    "    flage,frame=my_cam.read()\n",
    "    if flage==False:\n",
    "        break\n",
    "    \n",
    "     # 转成黑白\n",
    "    gray=cv2.cvtColor(frame,code=cv2.COLOR_BGR2GRAY)\n",
    "    face_zone=decoter.detectMultiScale(gray)\n",
    "    for x,y,w,h in face_zone:\n",
    "        cv2.rectangle(frame,pt1=(x,y),pt2=(x+w,y+h),color=[0,0,255],thickness=2)\n",
    "        \n",
    "    cv2.imshow('guizi',frame)\n",
    "    # 等待10毫秒，也就是1s中播放10张图片\n",
    "    # 人眼可以识别成视频的帧率为 1s 24帧  1000/24=41 间隔41ms播放一帧\n",
    "    if ord('q')==cv2.waitKey(41):\n",
    "        break\n",
    "cv2.destroyAllWindows()\n",
    "# 释放视频流\n",
    "my_cam.release"
   ]
  },
  {
   "cell_type": "code",
   "execution_count": 5,
   "metadata": {},
   "outputs": [
    {
     "data": {
      "text/plain": [
       "<function VideoWriter.release>"
      ]
     },
     "execution_count": 5,
     "metadata": {},
     "output_type": "execute_result"
    }
   ],
   "source": [
    "# 写视频\n",
    "video=cv2.VideoCapture('./video.mp4')\n",
    "h=int(video.get(propId=cv2.CAP_PROP_FRAME_HEIGHT))+1\n",
    "w=int(video.get(propId=cv2.CAP_PROP_FRAME_WIDTH))+1\n",
    "# 设置一个writer 可以从网上找各种格式\n",
    "videoWriter=cv2.VideoWriter('./save.mp4',cv2.VideoWriter_fourcc('M','P','4','V'),25,(w,h))\n",
    "while video.isOpened():\n",
    "    flage,frame=video.read()\n",
    "    if flage==False:\n",
    "        break\n",
    "    \n",
    "     # 转成黑白\n",
    "    gray=cv2.cvtColor(frame,code=cv2.COLOR_BGR2GRAY)\n",
    "    face_zone=decoter.detectMultiScale(gray)\n",
    "    for x,y,w,h in face_zone:\n",
    "        cv2.rectangle(frame,pt1=(x,y),pt2=(x+w,y+h),color=[0,0,255],thickness=2)\n",
    "    videoWriter.write(frame)\n",
    "# 释放视频流\n",
    "video.release\n",
    "videoWriter.release"
   ]
  },
  {
   "cell_type": "code",
   "execution_count": null,
   "metadata": {},
   "outputs": [],
   "source": []
  }
 ],
 "metadata": {
  "kernelspec": {
   "display_name": "Python 3",
   "language": "python",
   "name": "python3"
  },
  "language_info": {
   "codemirror_mode": {
    "name": "ipython",
    "version": 3
   },
   "file_extension": ".py",
   "mimetype": "text/x-python",
   "name": "python",
   "nbconvert_exporter": "python",
   "pygments_lexer": "ipython3",
   "version": "3.8.3"
  }
 },
 "nbformat": 4,
 "nbformat_minor": 4
}
